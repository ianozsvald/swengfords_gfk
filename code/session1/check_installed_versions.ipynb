{
 "cells": [
  {
   "cell_type": "markdown",
   "metadata": {},
   "source": [
    "# Check installed versions for core libraries\n",
    "\n",
    "Note to STUDENTS - run this Notebook, we'll check you have the same versions as Ian has.\n",
    "\n",
    "BE AWARE if you're running this on the command line, run it in IPython and _make sure you've activated your environment_ else it'll run with the (base) environment which you've not setup. \n",
    "\n",
    "Note for IAN - run this command if we update this Notebook `jupyter nbconvert --to python check_installed_versions.ipynb`"
   ]
  },
  {
   "cell_type": "code",
   "execution_count": null,
   "metadata": {},
   "outputs": [],
   "source": [
    "print(\"Run this FIRST in a Jupyter Notebook\")\n",
    "print(\"Run this SECOND using IPython in a Terminal with 'ipython check_installed_versions'\")"
   ]
  },
  {
   "cell_type": "code",
   "execution_count": null,
   "metadata": {},
   "outputs": [],
   "source": [
    "import sys\n",
    "print(f\"Python version: {sys.version}\")"
   ]
  },
  {
   "cell_type": "code",
   "execution_count": null,
   "metadata": {},
   "outputs": [],
   "source": [
    "import pandas\n",
    "print(f\"pandas version is {pandas.__version__}\")"
   ]
  },
  {
   "cell_type": "code",
   "execution_count": null,
   "metadata": {},
   "outputs": [],
   "source": [
    "import numpy as np\n",
    "print(f\"numpy version {np.__version__}\")"
   ]
  },
  {
   "cell_type": "code",
   "execution_count": null,
   "metadata": {},
   "outputs": [],
   "source": [
    "import matplotlib\n",
    "print(f\"matplotlib version is {matplotlib.__version__}\")"
   ]
  },
  {
   "cell_type": "code",
   "execution_count": null,
   "metadata": {},
   "outputs": [],
   "source": [
    "import pandera\n",
    "print(f\"pandera version {pandera.__version__}\")"
   ]
  },
  {
   "cell_type": "code",
   "execution_count": null,
   "metadata": {},
   "outputs": [],
   "source": [
    "import pytest\n",
    "print(f\"pytest version {pytest.__version__}\")"
   ]
  },
  {
   "cell_type": "code",
   "execution_count": null,
   "metadata": {},
   "outputs": [],
   "source": [
    "import hypothesis\n",
    "print(f\"hypothesis version {hypothesis.__version__}\")"
   ]
  },
  {
   "cell_type": "code",
   "execution_count": null,
   "metadata": {},
   "outputs": [],
   "source": [
    "# your \"active env location\" should include \".../envs/course\"\n",
    "#!conda info"
   ]
  },
  {
   "cell_type": "code",
   "execution_count": null,
   "metadata": {},
   "outputs": [],
   "source": [
    "# Let's show the system path\n",
    "# NOTE it is worth us looking at this for a moment to understand where Python is getting imports from\n",
    "# we expect to see\n",
    "# a folder to _this_ Notebook (for Ian this might be '/home/ian/workspace/teaching/public_courses/live/swengds_material/code/session1',\n",
    "# several paths to Python 3.x (e.g. /home/ian/miniconda3/envs/course/lib/python310.zip)\n",
    "# '' # the empty string means \"Python to search modules in the current directory\"\n",
    "# a site-packages folder where all the modules are stored\n",
    "sys.path"
   ]
  },
  {
   "cell_type": "code",
   "execution_count": null,
   "metadata": {},
   "outputs": [],
   "source": []
  }
 ],
 "metadata": {
  "kernelspec": {
   "display_name": "Python 3.10.6 ('course')",
   "language": "python",
   "name": "python3"
  },
  "language_info": {
   "codemirror_mode": {
    "name": "ipython",
    "version": 3
   },
   "file_extension": ".py",
   "mimetype": "text/x-python",
   "name": "python",
   "nbconvert_exporter": "python",
   "pygments_lexer": "ipython3",
   "version": "3.10.6"
  },
  "vscode": {
   "interpreter": {
    "hash": "67ca0717af79d405f822ef401e9c91e507dcdd6ca73e43db41fabfba02ac3ae6"
   }
  }
 },
 "nbformat": 4,
 "nbformat_minor": 2
}

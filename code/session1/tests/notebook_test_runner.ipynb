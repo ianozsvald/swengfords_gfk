{
 "cells": [
  {
   "cell_type": "markdown",
   "id": "e051a2ad",
   "metadata": {},
   "source": [
    "# We don't usually run `pytest` from a Notebook\n",
    "\n",
    "This is a simple way to run the tests _if you have problems running at the command line._. We'd normally prefer to run everything at the command line as you have an easier journey with your tools."
   ]
  },
  {
   "cell_type": "code",
   "execution_count": 1,
   "id": "304b159e",
   "metadata": {},
   "outputs": [
    {
     "name": "stdout",
     "output_type": "stream",
     "text": [
      "\u001b[1m============================= test session starts ==============================\u001b[0m\r\n",
      "platform linux -- Python 3.10.6, pytest-7.1.3, pluggy-1.0.0\r\n",
      "rootdir: /home/ian/workspace/teaching/public_courses/software_engineering_for_data_scientists_2022_3session gfk/code/session1/tests\r\n",
      "plugins: hypothesis-6.55.0, anyio-3.6.1, cov-4.0.0\r\n",
      "\u001b[1mcollecting ... \u001b[0m\u001b[1m\r\n",
      "collected 1 item                                                               \u001b[0m\r\n",
      "\r\n",
      "test_0_trivial_example.py \u001b[32m.\u001b[0m\u001b[32m                                              [100%]\u001b[0m\r\n",
      "\r\n",
      "\u001b[32m============================== \u001b[32m\u001b[1m1 passed\u001b[0m\u001b[32m in 0.01s\u001b[0m\u001b[32m ===============================\u001b[0m\r\n"
     ]
    }
   ],
   "source": [
    "!pytest test_1_trivial_example.py"
   ]
  },
  {
   "cell_type": "code",
   "execution_count": 4,
   "id": "121c418b",
   "metadata": {},
   "outputs": [
    {
     "name": "stdout",
     "output_type": "stream",
     "text": [
      "\u001b[1m============================= test session starts ==============================\u001b[0m\n",
      "platform linux -- Python 3.10.6, pytest-7.1.3, pluggy-1.0.0\n",
      "rootdir: /home/ian/workspace/teaching/public_courses/software_engineering_for_data_scientists_2022_3session gfk/code/session1/tests\n",
      "plugins: hypothesis-6.55.0, anyio-3.6.1, cov-4.0.0\n",
      "collected 4 items                                                              \u001b[0m\n",
      "\n",
      "test_2_now_try_this.py \u001b[31mF\u001b[0m\u001b[31mF\u001b[0m\u001b[31mF\u001b[0m\u001b[31mF\u001b[0m\u001b[31m                                              [100%]\u001b[0m\n",
      "\n",
      "=================================== FAILURES ===================================\n",
      "\u001b[31m\u001b[1m______________________ test_str[jane@bbc.co.uk-bbc.co.uk] ______________________\u001b[0m\n",
      "\n",
      "email = 'jane@bbc.co.uk', domain = 'bbc.co.uk'\n",
      "\n",
      "    \u001b[37m@pytest\u001b[39;49;00m.mark.parametrize(\u001b[33m\"\u001b[39;49;00m\u001b[33memail, domain\u001b[39;49;00m\u001b[33m\"\u001b[39;49;00m, EMAILS)\n",
      "    \u001b[94mdef\u001b[39;49;00m \u001b[92mtest_str\u001b[39;49;00m(email, domain):\n",
      ">       \u001b[94massert\u001b[39;49;00m get_domain(email) == domain\n",
      "\u001b[1m\u001b[31mE       AssertionError: assert 'jane@bbc.co.uk' == 'bbc.co.uk'\u001b[0m\n",
      "\u001b[1m\u001b[31mE         - bbc.co.uk\u001b[0m\n",
      "\u001b[1m\u001b[31mE         + jane@bbc.co.uk\u001b[0m\n",
      "\u001b[1m\u001b[31mE         ? +++++\u001b[0m\n",
      "\n",
      "\u001b[1m\u001b[31mtest_2_now_try_this.py\u001b[0m:29: AssertionError\n",
      "----------------------------- Captured stdout call -----------------------------\n",
      "We want to get domain for :jane@bbc.co.uk:\n",
      "\u001b[31m\u001b[1m____________________ test_str[geoff@bbc.co.uk   -bbc.co.uk] ____________________\u001b[0m\n",
      "\n",
      "email = 'geoff@bbc.co.uk   ', domain = 'bbc.co.uk'\n",
      "\n",
      "    \u001b[37m@pytest\u001b[39;49;00m.mark.parametrize(\u001b[33m\"\u001b[39;49;00m\u001b[33memail, domain\u001b[39;49;00m\u001b[33m\"\u001b[39;49;00m, EMAILS)\n",
      "    \u001b[94mdef\u001b[39;49;00m \u001b[92mtest_str\u001b[39;49;00m(email, domain):\n",
      ">       \u001b[94massert\u001b[39;49;00m get_domain(email) == domain\n",
      "\u001b[1m\u001b[31mE       AssertionError: assert 'geoff@bbc.co.uk   ' == 'bbc.co.uk'\u001b[0m\n",
      "\u001b[1m\u001b[31mE         - bbc.co.uk\u001b[0m\n",
      "\u001b[1m\u001b[31mE         + geoff@bbc.co.uk\u001b[0m\n",
      "\n",
      "\u001b[1m\u001b[31mtest_2_now_try_this.py\u001b[0m:29: AssertionError\n",
      "----------------------------- Captured stdout call -----------------------------\n",
      "We want to get domain for :geoff@bbc.co.uk   :\n",
      "\u001b[31m\u001b[1m____________________ test_str['julie@bbc.co.uk'-bbc.co.uk] _____________________\u001b[0m\n",
      "\n",
      "email = \"'julie@bbc.co.uk'\", domain = 'bbc.co.uk'\n",
      "\n",
      "    \u001b[37m@pytest\u001b[39;49;00m.mark.parametrize(\u001b[33m\"\u001b[39;49;00m\u001b[33memail, domain\u001b[39;49;00m\u001b[33m\"\u001b[39;49;00m, EMAILS)\n",
      "    \u001b[94mdef\u001b[39;49;00m \u001b[92mtest_str\u001b[39;49;00m(email, domain):\n",
      ">       \u001b[94massert\u001b[39;49;00m get_domain(email) == domain\n",
      "\u001b[1m\u001b[31mE       assert \"'julie@bbc.co.uk'\" == 'bbc.co.uk'\u001b[0m\n",
      "\u001b[1m\u001b[31mE         - bbc.co.uk\u001b[0m\n",
      "\u001b[1m\u001b[31mE         + 'julie@bbc.co.uk'\u001b[0m\n",
      "\n",
      "\u001b[1m\u001b[31mtest_2_now_try_this.py\u001b[0m:29: AssertionError\n",
      "----------------------------- Captured stdout call -----------------------------\n",
      "We want to get domain for :'julie@bbc.co.uk':\n",
      "\u001b[31m\u001b[1m____________________ test_str['julie@bbc.co.uk' -bbc.co.uk] ____________________\u001b[0m\n",
      "\n",
      "email = \"'julie@bbc.co.uk' \", domain = 'bbc.co.uk'\n",
      "\n",
      "    \u001b[37m@pytest\u001b[39;49;00m.mark.parametrize(\u001b[33m\"\u001b[39;49;00m\u001b[33memail, domain\u001b[39;49;00m\u001b[33m\"\u001b[39;49;00m, EMAILS)\n",
      "    \u001b[94mdef\u001b[39;49;00m \u001b[92mtest_str\u001b[39;49;00m(email, domain):\n",
      ">       \u001b[94massert\u001b[39;49;00m get_domain(email) == domain\n",
      "\u001b[1m\u001b[31mE       assert \"'julie@bbc.co.uk' \" == 'bbc.co.uk'\u001b[0m\n",
      "\u001b[1m\u001b[31mE         - bbc.co.uk\u001b[0m\n",
      "\u001b[1m\u001b[31mE         + 'julie@bbc.co.uk'\u001b[0m\n",
      "\n",
      "\u001b[1m\u001b[31mtest_2_now_try_this.py\u001b[0m:29: AssertionError\n",
      "----------------------------- Captured stdout call -----------------------------\n",
      "We want to get domain for :'julie@bbc.co.uk' :\n",
      "=========================== short test summary info ============================\n",
      "FAILED test_2_now_try_this.py::test_str[jane@bbc.co.uk-bbc.co.uk] - Assertion...\n",
      "FAILED test_2_now_try_this.py::test_str[geoff@bbc.co.uk   -bbc.co.uk] - Asser...\n",
      "FAILED test_2_now_try_this.py::test_str['julie@bbc.co.uk'-bbc.co.uk] - assert...\n",
      "FAILED test_2_now_try_this.py::test_str['julie@bbc.co.uk' -bbc.co.uk] - asser...\n",
      "\u001b[31m============================== \u001b[31m\u001b[1m4 failed\u001b[0m\u001b[31m in 0.13s\u001b[0m\u001b[31m ===============================\u001b[0m\n"
     ]
    }
   ],
   "source": [
    "!pytest test_2_now_try_this.py"
   ]
  },
  {
   "cell_type": "code",
   "execution_count": 5,
   "id": "4fa559e3",
   "metadata": {},
   "outputs": [
    {
     "name": "stdout",
     "output_type": "stream",
     "text": [
      "\u001b[1m============================= test session starts ==============================\u001b[0m\n",
      "platform linux -- Python 3.10.6, pytest-7.1.3, pluggy-1.0.0\n",
      "rootdir: /home/ian/workspace/teaching/public_courses/software_engineering_for_data_scientists_2022_3session gfk/code/session1/tests\n",
      "plugins: hypothesis-6.55.0, anyio-3.6.1, cov-4.0.0\n",
      "collected 2 items                                                              \u001b[0m\n",
      "\n",
      "test_3_python_default_list.py \u001b[31mF\u001b[0m\u001b[31mF\u001b[0m\u001b[31m                                         [100%]\u001b[0m\n",
      "\n",
      "=================================== FAILURES ===================================\n",
      "\u001b[31m\u001b[1m_____________________________________ test _____________________________________\u001b[0m\n",
      "\n",
      "    \u001b[94mdef\u001b[39;49;00m \u001b[92mtest\u001b[39;49;00m():\n",
      "        \u001b[94massert\u001b[39;49;00m accum(\u001b[33m\"\u001b[39;49;00m\u001b[33ma\u001b[39;49;00m\u001b[33m\"\u001b[39;49;00m) == [\u001b[33m\"\u001b[39;49;00m\u001b[33ma\u001b[39;49;00m\u001b[33m\"\u001b[39;49;00m]\n",
      ">       \u001b[94massert\u001b[39;49;00m accum(\u001b[33m\"\u001b[39;49;00m\u001b[33mb\u001b[39;49;00m\u001b[33m\"\u001b[39;49;00m) == [\u001b[33m\"\u001b[39;49;00m\u001b[33mb\u001b[39;49;00m\u001b[33m\"\u001b[39;49;00m]\n",
      "\u001b[1m\u001b[31mE       AssertionError: assert ['a', 'b'] == ['b']\u001b[0m\n",
      "\u001b[1m\u001b[31mE         At index 0 diff: 'a' != 'b'\u001b[0m\n",
      "\u001b[1m\u001b[31mE         Left contains one more item: 'b'\u001b[0m\n",
      "\u001b[1m\u001b[31mE         Use -v to get more diff\u001b[0m\n",
      "\n",
      "\u001b[1m\u001b[31mtest_3_python_default_list.py\u001b[0m:21: AssertionError\n",
      "\u001b[31m\u001b[1m____________________________________ test2 _____________________________________\u001b[0m\n",
      "\n",
      "    \u001b[94mdef\u001b[39;49;00m \u001b[92mtest2\u001b[39;49;00m():\n",
      "        lst = accum(\u001b[33m\"\u001b[39;49;00m\u001b[33mc\u001b[39;49;00m\u001b[33m\"\u001b[39;49;00m)\n",
      ">       \u001b[94massert\u001b[39;49;00m accum(\u001b[33m\"\u001b[39;49;00m\u001b[33md\u001b[39;49;00m\u001b[33m\"\u001b[39;49;00m, lst) == [\u001b[33m\"\u001b[39;49;00m\u001b[33mc\u001b[39;49;00m\u001b[33m\"\u001b[39;49;00m, \u001b[33m\"\u001b[39;49;00m\u001b[33md\u001b[39;49;00m\u001b[33m\"\u001b[39;49;00m]\n",
      "\u001b[1m\u001b[31mE       AssertionError: assert ['a', 'b', 'c', 'd'] == ['c', 'd']\u001b[0m\n",
      "\u001b[1m\u001b[31mE         At index 0 diff: 'a' != 'c'\u001b[0m\n",
      "\u001b[1m\u001b[31mE         Left contains 2 more items, first extra item: 'c'\u001b[0m\n",
      "\u001b[1m\u001b[31mE         Use -v to get more diff\u001b[0m\n",
      "\n",
      "\u001b[1m\u001b[31mtest_3_python_default_list.py\u001b[0m:26: AssertionError\n",
      "=========================== short test summary info ============================\n",
      "FAILED test_3_python_default_list.py::test - AssertionError: assert ['a', 'b'...\n",
      "FAILED test_3_python_default_list.py::test2 - AssertionError: assert ['a', 'b...\n",
      "\u001b[31m============================== \u001b[31m\u001b[1m2 failed\u001b[0m\u001b[31m in 0.11s\u001b[0m\u001b[31m ===============================\u001b[0m\n"
     ]
    }
   ],
   "source": [
    "!pytest test_3_python_default_list.py"
   ]
  },
  {
   "cell_type": "code",
   "execution_count": 6,
   "id": "272ebdb9",
   "metadata": {},
   "outputs": [
    {
     "name": "stdout",
     "output_type": "stream",
     "text": [
      "\u001b[1m============================= test session starts ==============================\u001b[0m\n",
      "platform linux -- Python 3.10.6, pytest-7.1.3, pluggy-1.0.0\n",
      "rootdir: /home/ian/workspace/teaching/public_courses/software_engineering_for_data_scientists_2022_3session gfk/code/session1/tests\n",
      "plugins: hypothesis-6.55.0, anyio-3.6.1, cov-4.0.0\n",
      "collected 1 item                                                               \u001b[0m\n",
      "\n",
      "test_4_pandas_merge.py \u001b[31mF\u001b[0m\u001b[31m                                                 [100%]\u001b[0m\n",
      "\n",
      "=================================== FAILURES ===================================\n",
      "\u001b[31m\u001b[1m_____________________________________ test _____________________________________\u001b[0m\n",
      "\n",
      "    \u001b[94mdef\u001b[39;49;00m \u001b[92mtest\u001b[39;49;00m():\n",
      "        result = my_merge(DF1, DF2)\n",
      "        \u001b[96mprint\u001b[39;49;00m(\u001b[33m\"\u001b[39;49;00m\u001b[33mAfter merging we get:\u001b[39;49;00m\u001b[33m\"\u001b[39;49;00m)\n",
      "        \u001b[96mprint\u001b[39;49;00m(result)\n",
      "        \u001b[90m# check we get all the 4 animals we expect\u001b[39;49;00m\n",
      ">       \u001b[94massert\u001b[39;49;00m \u001b[96mset\u001b[39;49;00m(result[\u001b[33m\"\u001b[39;49;00m\u001b[33manimals\u001b[39;49;00m\u001b[33m\"\u001b[39;49;00m].unique()) == \u001b[96mset\u001b[39;49;00m(\n",
      "            [\u001b[33m\"\u001b[39;49;00m\u001b[33msheep\u001b[39;49;00m\u001b[33m\"\u001b[39;49;00m, \u001b[33m\"\u001b[39;49;00m\u001b[33mcows\u001b[39;49;00m\u001b[33m\"\u001b[39;49;00m, \u001b[33m\"\u001b[39;49;00m\u001b[33mchicken\u001b[39;49;00m\u001b[33m\"\u001b[39;49;00m, \u001b[33m\"\u001b[39;49;00m\u001b[33mrabbits\u001b[39;49;00m\u001b[33m\"\u001b[39;49;00m]\n",
      "        )\n",
      "\u001b[1m\u001b[31mE       AssertionError: assert {'chicken', 'cows', 'sheep'} == {'chicken', '...its', 'sheep'}\u001b[0m\n",
      "\u001b[1m\u001b[31mE         Extra items in the right set:\u001b[0m\n",
      "\u001b[1m\u001b[31mE         'rabbits'\u001b[0m\n",
      "\u001b[1m\u001b[31mE         Use -v to get more diff\u001b[0m\n",
      "\n",
      "\u001b[1m\u001b[31mtest_4_pandas_merge.py\u001b[0m:25: AssertionError\n",
      "----------------------------- Captured stdout call -----------------------------\n",
      "After merging we get:\n",
      "   animals code  counts\n",
      "0    sheep    a       3\n",
      "0    sheep    a       1\n",
      "1     cows    b       9\n",
      "1     cows    b       2\n",
      "2  chicken    c       3\n",
      "=========================== short test summary info ============================\n",
      "FAILED test_4_pandas_merge.py::test - AssertionError: assert {'chicken', 'cow...\n",
      "\u001b[31m============================== \u001b[31m\u001b[1m1 failed\u001b[0m\u001b[31m in 0.56s\u001b[0m\u001b[31m ===============================\u001b[0m\n"
     ]
    }
   ],
   "source": [
    "!pytest test_4_pandas_merge.py"
   ]
  },
  {
   "cell_type": "code",
   "execution_count": 7,
   "id": "04bff759",
   "metadata": {},
   "outputs": [
    {
     "name": "stdout",
     "output_type": "stream",
     "text": [
      "\u001b[1m============================= test session starts ==============================\u001b[0m\n",
      "platform linux -- Python 3.10.6, pytest-7.1.3, pluggy-1.0.0\n",
      "rootdir: /home/ian/workspace/teaching/public_courses/software_engineering_for_data_scientists_2022_3session gfk/code/session1/tests\n",
      "plugins: hypothesis-6.55.0, anyio-3.6.1, cov-4.0.0\n",
      "collected 2 items                                                              \u001b[0m\n",
      "\n",
      "test_5_numpy_pandas_tests.py \u001b[31mF\u001b[0m\u001b[31mF\u001b[0m\u001b[31m                                          [100%]\u001b[0m\n",
      "\n",
      "=================================== FAILURES ===================================\n",
      "\u001b[31m\u001b[1m__________________________________ test_numpy __________________________________\u001b[0m\n",
      "\n",
      "    \u001b[94mdef\u001b[39;49;00m \u001b[92mtest_numpy\u001b[39;49;00m():\n",
      "        inputs = np.array([\u001b[94m0\u001b[39;49;00m, np.pi / \u001b[94m2\u001b[39;49;00m, np.pi], dtype=np.double)\n",
      "        expected_outputs = [\u001b[94m0\u001b[39;49;00m, \u001b[94m1\u001b[39;49;00m, \u001b[94m0\u001b[39;49;00m]  \u001b[90m# note Python list, not a numpy array\u001b[39;49;00m\n",
      "        outputs = calculate_a_thing(inputs)\n",
      "    \n",
      "        \u001b[90m# this will fail - why? what _two_ problems might we have?\u001b[39;49;00m\n",
      ">       \u001b[94massert\u001b[39;49;00m expected_outputs == outputs\n",
      "\u001b[1m\u001b[31mE       ValueError: The truth value of an array with more than one element is ambiguous. Use a.any() or a.all()\u001b[0m\n",
      "\n",
      "\u001b[1m\u001b[31mtest_5_numpy_pandas_tests.py\u001b[0m:20: ValueError\n",
      "\u001b[31m\u001b[1m_________________________________ test_pandas __________________________________\u001b[0m\n",
      "\n",
      "    \u001b[94mdef\u001b[39;49;00m \u001b[92mtest_pandas\u001b[39;49;00m():\n",
      "        df = pd.DataFrame({\u001b[33m\"\u001b[39;49;00m\u001b[33mevents\u001b[39;49;00m\u001b[33m\"\u001b[39;49;00m: [\u001b[94m1\u001b[39;49;00m, \u001b[94m0\u001b[39;49;00m, \u001b[94m2\u001b[39;49;00m, \u001b[94m3\u001b[39;49;00m]}, index=DATES)\n",
      "        \u001b[96mprint\u001b[39;49;00m(df)  \u001b[90m# use -s in pytest to show stdout\u001b[39;49;00m\n",
      "        \u001b[90m# you might try adding `breakpoint()` here to practice nagivating\u001b[39;49;00m\n",
      "        \u001b[90m# with the pdb Python debugging\u001b[39;49;00m\n",
      "        \u001b[90m# breakpoint()\u001b[39;49;00m\n",
      "        \u001b[90m# for breakpoint() try `list` to show where you are, `c` for continue, `n` for next statement\u001b[39;49;00m\n",
      "        \u001b[90m# `p df` will print the df\u001b[39;49;00m\n",
      "        \u001b[90m# `whatis df` will print the item's type\u001b[39;49;00m\n",
      "        \u001b[90m# note that `s` steps into a function and then you'll be walking through lots of pandas (so use `c` to continue out)\u001b[39;49;00m\n",
      "        df = count_events_by_days(df)\n",
      "    \n",
      "        \u001b[90m# STUDENT - ARE THESE COUNTS RIGHT? DID WE MAKE A TYPO HERE PERHAPS?\u001b[39;49;00m\n",
      "        expected_counts = [\u001b[94m1\u001b[39;49;00m, \u001b[94m1\u001b[39;49;00m, \u001b[94m0\u001b[39;49;00m, \u001b[94m3\u001b[39;49;00m]\n",
      ">       \u001b[94massert\u001b[39;49;00m (df.events == expected_counts).all()\n",
      "\u001b[1m\u001b[31mE       assert False\u001b[0m\n",
      "\u001b[1m\u001b[31mE        +  where False = <bound method NDFrame._add_numeric_operations.<locals>.all of 2019-01-01     True\\n2019-01-02    False\\n2019-01-03     True\\n2019-01-04     True\\nFreq: D, Name: events, dtype: bool>()\u001b[0m\n",
      "\u001b[1m\u001b[31mE        +    where <bound method NDFrame._add_numeric_operations.<locals>.all of 2019-01-01     True\\n2019-01-02    False\\n2019-01-03     True\\n2019-01-04     True\\nFreq: D, Name: events, dtype: bool> = 2019-01-01   ..., dtype: int64 == [1, 1, 0, 3]\u001b[0m\n",
      "\u001b[1m\u001b[31mE             Use -v to get more diff.all\u001b[0m\n",
      "\n",
      "\u001b[1m\u001b[31mtest_5_numpy_pandas_tests.py\u001b[0m:54: AssertionError\n",
      "----------------------------- Captured stdout call -----------------------------\n",
      "            events\n",
      "2019-01-01       1\n",
      "2019-01-01       0\n",
      "2019-01-02       2\n",
      "2019-01-04       3\n",
      "=========================== short test summary info ============================\n",
      "FAILED test_5_numpy_pandas_tests.py::test_numpy - ValueError: The truth value...\n",
      "FAILED test_5_numpy_pandas_tests.py::test_pandas - assert False\n",
      "\u001b[31m============================== \u001b[31m\u001b[1m2 failed\u001b[0m\u001b[31m in 0.60s\u001b[0m\u001b[31m ===============================\u001b[0m\n"
     ]
    }
   ],
   "source": [
    "!pytest test_5_numpy_pandas_tests.py"
   ]
  },
  {
   "cell_type": "markdown",
   "id": "b3d72dbb",
   "metadata": {},
   "source": [
    "# Homework"
   ]
  },
  {
   "cell_type": "code",
   "execution_count": 8,
   "id": "8b9521f5",
   "metadata": {},
   "outputs": [
    {
     "name": "stdout",
     "output_type": "stream",
     "text": [
      "\u001b[1m============================= test session starts ==============================\u001b[0m\n",
      "platform linux -- Python 3.10.6, pytest-7.1.3, pluggy-1.0.0\n",
      "rootdir: /home/ian/workspace/teaching/public_courses/software_engineering_for_data_scientists_2022_3session gfk/code/session1/tests\n",
      "plugins: hypothesis-6.55.0, anyio-3.6.1, cov-4.0.0\n",
      "collected 2 items                                                              \u001b[0m\n",
      "\n",
      "homework_is_prime.py \u001b[31mF\u001b[0m\u001b[31mF\u001b[0m\u001b[31m                                                  [100%]\u001b[0m\n",
      "\n",
      "=================================== FAILURES ===================================\n",
      "\u001b[31m\u001b[1m__________________________________ tests_main __________________________________\u001b[0m\n",
      "\n",
      "    \u001b[94mdef\u001b[39;49;00m \u001b[92mtests_main\u001b[39;49;00m():\n",
      "        \u001b[90m# STUDENT don't touch this function...\u001b[39;49;00m\n",
      "        \u001b[94massert\u001b[39;49;00m is_prime(\u001b[94m2\u001b[39;49;00m) \u001b[95mis\u001b[39;49;00m \u001b[94mTrue\u001b[39;49;00m\n",
      "        \u001b[94massert\u001b[39;49;00m is_prime(\u001b[94m3\u001b[39;49;00m) \u001b[95mis\u001b[39;49;00m \u001b[94mTrue\u001b[39;49;00m\n",
      ">       \u001b[94massert\u001b[39;49;00m is_prime(\u001b[94m4\u001b[39;49;00m) \u001b[95mis\u001b[39;49;00m \u001b[94mFalse\u001b[39;49;00m\n",
      "\u001b[1m\u001b[31mE       assert True is False\u001b[0m\n",
      "\u001b[1m\u001b[31mE        +  where True = is_prime(4)\u001b[0m\n",
      "\n",
      "\u001b[1m\u001b[31mhomework_is_prime.py\u001b[0m:68: AssertionError\n",
      "\u001b[31m\u001b[1m________________________________ test_exception ________________________________\u001b[0m\n",
      "\n",
      "    \u001b[94mdef\u001b[39;49;00m \u001b[92mtest_exception\u001b[39;49;00m():\n",
      "        \u001b[90m# STUDENT don't touch this function...\u001b[39;49;00m\n",
      ">       \u001b[94mwith\u001b[39;49;00m pytest.raises(\u001b[96mValueError\u001b[39;49;00m):\n",
      "\u001b[1m\u001b[31mE       Failed: DID NOT RAISE <class 'ValueError'>\u001b[0m\n",
      "\n",
      "\u001b[1m\u001b[31mhomework_is_prime.py\u001b[0m:85: Failed\n",
      "=========================== short test summary info ============================\n",
      "FAILED homework_is_prime.py::tests_main - assert True is False\n",
      "FAILED homework_is_prime.py::test_exception - Failed: DID NOT RAISE <class 'V...\n",
      "\u001b[31m============================== \u001b[31m\u001b[1m2 failed\u001b[0m\u001b[31m in 0.10s\u001b[0m\u001b[31m ===============================\u001b[0m\n"
     ]
    }
   ],
   "source": [
    "!pytest homework_is_prime.py"
   ]
  },
  {
   "cell_type": "code",
   "execution_count": null,
   "id": "e6f2bb95",
   "metadata": {},
   "outputs": [],
   "source": []
  }
 ],
 "metadata": {
  "kernelspec": {
   "display_name": "Python 3 (ipykernel)",
   "language": "python",
   "name": "python3"
  },
  "language_info": {
   "codemirror_mode": {
    "name": "ipython",
    "version": 3
   },
   "file_extension": ".py",
   "mimetype": "text/x-python",
   "name": "python",
   "nbconvert_exporter": "python",
   "pygments_lexer": "ipython3",
   "version": "3.10.6"
  }
 },
 "nbformat": 4,
 "nbformat_minor": 5
}

{
 "cells": [
  {
   "cell_type": "markdown",
   "id": "f93cbcfb",
   "metadata": {},
   "source": [
    "# Pandera\n",
    "\n",
    "Let's work through using `assert` to catch some data assumptions, then making it more solid with Pandera on the 30 minute resampled data - then you'll do some homework on the raw data.\n",
    "\n",
    "----"
   ]
  },
  {
   "cell_type": "code",
   "execution_count": 1,
   "id": "0003c789",
   "metadata": {},
   "outputs": [],
   "source": [
    "import pandas as pd\n",
    "import pandera as pa\n",
    "from pandera.errors import SchemaErrors\n",
    "import matplotlib.pyplot as plt\n",
    "\n",
    "from utility import (\n",
    "    make_max_water_by_temp_dataframe,\n",
    "    set_common_mpl_styles,\n",
    "    load_data,\n",
    "    plot_day,\n",
    "    make_estimated_water_plot,\n",
    "    make_bin_edges,\n",
    "    make_bootstrap,\n",
    ")\n",
    "\n",
    "FILENAME_KITCHEN = \"Kitchen_export_202112311652.csv\""
   ]
  },
  {
   "cell_type": "markdown",
   "id": "2e6867d4",
   "metadata": {},
   "source": [
    "# Load kitchen data"
   ]
  },
  {
   "cell_type": "code",
   "execution_count": 2,
   "id": "2f5a046b",
   "metadata": {},
   "outputs": [
    {
     "name": "stdout",
     "output_type": "stream",
     "text": [
      "Date range 2021-12-22 17:00:00 - 2021-12-31 16:52:00\n",
      "Working on 2021-12-24\n"
     ]
    },
    {
     "data": {
      "text/html": [
       "<div>\n",
       "<style scoped>\n",
       "    .dataframe tbody tr th:only-of-type {\n",
       "        vertical-align: middle;\n",
       "    }\n",
       "\n",
       "    .dataframe tbody tr th {\n",
       "        vertical-align: top;\n",
       "    }\n",
       "\n",
       "    .dataframe thead th {\n",
       "        text-align: right;\n",
       "    }\n",
       "</style>\n",
       "<table border=\"1\" class=\"dataframe\">\n",
       "  <thead>\n",
       "    <tr style=\"text-align: right;\">\n",
       "      <th></th>\n",
       "      <th>t_c</th>\n",
       "      <th>rh</th>\n",
       "    </tr>\n",
       "    <tr>\n",
       "      <th>timestamp</th>\n",
       "      <th></th>\n",
       "      <th></th>\n",
       "    </tr>\n",
       "  </thead>\n",
       "  <tbody>\n",
       "    <tr>\n",
       "      <th>2021-12-22 17:00:00</th>\n",
       "      <td>14.0</td>\n",
       "      <td>48.1</td>\n",
       "    </tr>\n",
       "    <tr>\n",
       "      <th>2021-12-22 17:01:00</th>\n",
       "      <td>14.0</td>\n",
       "      <td>48.2</td>\n",
       "    </tr>\n",
       "    <tr>\n",
       "      <th>2021-12-22 17:02:00</th>\n",
       "      <td>14.0</td>\n",
       "      <td>48.1</td>\n",
       "    </tr>\n",
       "    <tr>\n",
       "      <th>2021-12-22 17:03:00</th>\n",
       "      <td>14.0</td>\n",
       "      <td>48.1</td>\n",
       "    </tr>\n",
       "    <tr>\n",
       "      <th>2021-12-22 17:04:00</th>\n",
       "      <td>14.0</td>\n",
       "      <td>48.2</td>\n",
       "    </tr>\n",
       "  </tbody>\n",
       "</table>\n",
       "</div>"
      ],
      "text/plain": [
       "                      t_c    rh\n",
       "timestamp                      \n",
       "2021-12-22 17:00:00  14.0  48.1\n",
       "2021-12-22 17:01:00  14.0  48.2\n",
       "2021-12-22 17:02:00  14.0  48.1\n",
       "2021-12-22 17:03:00  14.0  48.1\n",
       "2021-12-22 17:04:00  14.0  48.2"
      ]
     },
     "execution_count": 2,
     "metadata": {},
     "output_type": "execute_result"
    }
   ],
   "source": [
    "df_raw = load_data(FILENAME_KITCHEN)\n",
    "\n",
    "# now let's choose a day\n",
    "day_to_choose = \"2021-12-24\"\n",
    "print(f\"Working on {day_to_choose}\")\n",
    "assert pd.to_datetime(day_to_choose) > df_raw.index.min(), \"Must be in date range\"\n",
    "assert pd.to_datetime(day_to_choose) < df_raw.index.max(), \"Must be in date range\"\n",
    "\n",
    "assert df_raw[\"t_c\"].max() < 50, \"Never expecting above 50C in the house\"\n",
    "assert (\n",
    "    df_raw[\"rh\"].min() > 0\n",
    "), \"Relative humidify can't be below 0% saturation in a normal house\"\n",
    "\n",
    "df_raw.head()"
   ]
  },
  {
   "cell_type": "code",
   "execution_count": 3,
   "id": "3ce56fc2",
   "metadata": {},
   "outputs": [
    {
     "data": {
      "text/html": [
       "<div>\n",
       "<style scoped>\n",
       "    .dataframe tbody tr th:only-of-type {\n",
       "        vertical-align: middle;\n",
       "    }\n",
       "\n",
       "    .dataframe tbody tr th {\n",
       "        vertical-align: top;\n",
       "    }\n",
       "\n",
       "    .dataframe thead th {\n",
       "        text-align: right;\n",
       "    }\n",
       "</style>\n",
       "<table border=\"1\" class=\"dataframe\">\n",
       "  <thead>\n",
       "    <tr style=\"text-align: right;\">\n",
       "      <th></th>\n",
       "      <th>t_c</th>\n",
       "      <th>rh</th>\n",
       "    </tr>\n",
       "    <tr>\n",
       "      <th>timestamp</th>\n",
       "      <th></th>\n",
       "      <th></th>\n",
       "    </tr>\n",
       "  </thead>\n",
       "  <tbody>\n",
       "    <tr>\n",
       "      <th>2021-12-22 17:00:00</th>\n",
       "      <td>14.916667</td>\n",
       "      <td>46.893333</td>\n",
       "    </tr>\n",
       "    <tr>\n",
       "      <th>2021-12-22 17:30:00</th>\n",
       "      <td>13.756667</td>\n",
       "      <td>48.800000</td>\n",
       "    </tr>\n",
       "    <tr>\n",
       "      <th>2021-12-22 18:00:00</th>\n",
       "      <td>13.860000</td>\n",
       "      <td>51.653333</td>\n",
       "    </tr>\n",
       "    <tr>\n",
       "      <th>2021-12-22 18:30:00</th>\n",
       "      <td>14.760000</td>\n",
       "      <td>53.906667</td>\n",
       "    </tr>\n",
       "    <tr>\n",
       "      <th>2021-12-22 19:00:00</th>\n",
       "      <td>15.053333</td>\n",
       "      <td>52.816667</td>\n",
       "    </tr>\n",
       "  </tbody>\n",
       "</table>\n",
       "</div>"
      ],
      "text/plain": [
       "                           t_c         rh\n",
       "timestamp                                \n",
       "2021-12-22 17:00:00  14.916667  46.893333\n",
       "2021-12-22 17:30:00  13.756667  48.800000\n",
       "2021-12-22 18:00:00  13.860000  51.653333\n",
       "2021-12-22 18:30:00  14.760000  53.906667\n",
       "2021-12-22 19:00:00  15.053333  52.816667"
      ]
     },
     "execution_count": 3,
     "metadata": {},
     "output_type": "execute_result"
    }
   ],
   "source": [
    "df_30min = df_raw.resample(\"30min\").mean()\n",
    "\n",
    "df_30min.head()"
   ]
  },
  {
   "cell_type": "markdown",
   "id": "c8e3cfe9",
   "metadata": {},
   "source": [
    "# Try Pandera to catch errors with some debug info"
   ]
  },
  {
   "cell_type": "code",
   "execution_count": 4,
   "id": "b63156b5",
   "metadata": {},
   "outputs": [],
   "source": [
    "# Examples to try\n",
    "# rh must be >60 (not >0) - multiple examples, all on 1 line with lazy=True\n",
    "# rh > 60 lazy=False to show 1 with a better output\n",
    "# rh > 60 and rh < 70 lazy=True to show both sets \n",
    "# rh > 60 and rh < 70 lazy=False to show only the first\n",
    "\n",
    "def sanity_check_data_with_index(df):\n",
    "    min_date = \"2021-01-01\"\n",
    "    max_date = \"2022-12-12\"\n",
    "    schema = pa.DataFrameSchema(\n",
    "        {\n",
    "            \"rh\": pa.Column(float, checks=[pa.Check.gt(0), pa.Check.lt(100)]),\n",
    "            #\"rh\": pa.Column(float, checks=[pa.Check.gt(60), pa.Check.lt(70)]),\n",
    "        },\n",
    "        index=pa.Index(\n",
    "            \"datetime64[ns]\", checks=[pa.Check.gt(min_date), pa.Check.lt(max_date)]\n",
    "        ),\n",
    "        ordered=True,\n",
    "    )\n",
    "    validated_df = schema(df, lazy=True)\n",
    "    \n",
    "sanity_check_data_with_index(df_30min)"
   ]
  },
  {
   "cell_type": "markdown",
   "id": "edadfe89",
   "metadata": {},
   "source": [
    "# Catch better descriptions"
   ]
  },
  {
   "cell_type": "code",
   "execution_count": 5,
   "id": "2e544ac9",
   "metadata": {},
   "outputs": [],
   "source": [
    "# Examples to try\n",
    "# rh > 60 and rh < 70 lazy=True to show descriptions of errors\n",
    "\n",
    "def sanity_check_data_with_index_exception(df):\n",
    "    min_date = \"2021-01-01\"\n",
    "    max_date = \"2022-12-12\"\n",
    "    schema = pa.DataFrameSchema(\n",
    "        {\n",
    "            \"rh\": pa.Column(float, checks=[pa.Check.gt(0), pa.Check.lt(100)]),\n",
    "            #\"rh\": pa.Column(float, checks=[pa.Check.gt(60), pa.Check.lt(70)]),\n",
    "        },\n",
    "        index=pa.Index(\n",
    "            \"datetime64[ns]\", checks=[pa.Check.gt(min_date), pa.Check.lt(max_date)]\n",
    "        ),\n",
    "        ordered=True,\n",
    "    )\n",
    "    try:\n",
    "        schema.validate(df, lazy=True)\n",
    "    except SchemaErrors as err:\n",
    "        print(err.failure_cases)  # dataframe of schema errors\n",
    "        print(err.data)  # invalid dataframe\n",
    "        \n",
    "sanity_check_data_with_index_exception(df_30min)\n"
   ]
  },
  {
   "cell_type": "markdown",
   "id": "117dbc93",
   "metadata": {},
   "source": [
    "# Homework\n",
    "\n",
    "We've caught errors on the 30 minute resampled data - this is generated from `df_raw` where 30 * 1min datapoints are summarised (with `mean`) to make our processed data. What sins might exist in the raw data?\n",
    "\n",
    "The function below will run on `df_raw`, not `df_30min`.\n",
    "\n",
    "We've caught `rh` problems - now try to catch `t_c` problems. We'll expect a range of e.g. >10 to <35 Celcius in the house - can you test for that? Copy one of the above functions, give it a new name, then try it out. \n",
    "\n",
    "Can you update `rh` to check for a humidity between 30% and 100%?\n",
    "\n",
    "Remember that `ordered=True` is set so if you defined the `t_c` row _after_ `rh` then it'll be out of order, you want `rh` and then `t_c` - but try to swap them so you can see the error you get.\n",
    "\n",
    "What's the largest `min_date` you can get before you get an error?\n",
    "\n",
    "Bonus - define a new `t_c_delta` column using:\n",
    "```\n",
    "    df = df.copy()\n",
    "    df['t_c_delta'] = df['t_c'].shift() - df['t_c']\n",
    "    df['t_c_delta'] = df['t_c_delta'].fillna(0)\n",
    "```\n",
    "which will give the 30min differences per rows, add a 3rd check for `t_c_delta` after `rh`, check for a sensible minimum and maximum change in temperature per 30 minute sampling gap. What's biggest change you might sensibly expect? That's a good starting point."
   ]
  },
  {
   "cell_type": "code",
   "execution_count": 6,
   "id": "553b70db",
   "metadata": {},
   "outputs": [
    {
     "name": "stdout",
     "output_type": "stream",
     "text": [
      "Date range 2021-12-22 17:00:00 - 2021-12-31 16:52:00\n",
      "No problems seen\n"
     ]
    }
   ],
   "source": [
    "def sanity_check_raw(df):\n",
    "    min_date = \"2021-01-01\"\n",
    "    max_date = \"2022-12-12\"\n",
    "    schema = pa.DataFrameSchema(\n",
    "        {\n",
    "            \"rh\": pa.Column(float, checks=[pa.Check.gt(00), pa.Check.lt(100)]),\n",
    "        },\n",
    "        index=pa.Index(\n",
    "            \"datetime64[ns]\", checks=[pa.Check.gt(min_date), pa.Check.lt(max_date)]\n",
    "        ),\n",
    "        ordered=True,\n",
    "    )\n",
    "    validated_df = schema(df, lazy=True)\n",
    "\n",
    "    try:\n",
    "        schema.validate(df, lazy=True)\n",
    "    except SchemaErrors as err:\n",
    "        print(err.failure_cases)  # dataframe of schema errors\n",
    "        print(err.data)  # invalid dataframe\n",
    "\n",
    "# no need to reload the data, it is just convenient to have it to hand whilst you iterate here\n",
    "df_raw = load_data(FILENAME_KITCHEN)\n",
    "sanity_check_raw(df_raw)\n",
    "print(\"No problems seen\")"
   ]
  },
  {
   "cell_type": "markdown",
   "id": "6291a261",
   "metadata": {},
   "source": [
    "# Solution"
   ]
  },
  {
   "cell_type": "code",
   "execution_count": 7,
   "id": "897895f4",
   "metadata": {},
   "outputs": [
    {
     "name": "stdout",
     "output_type": "stream",
     "text": [
      "Date range 2021-12-22 17:00:00 - 2021-12-31 16:52:00\n"
     ]
    },
    {
     "ename": "SchemaErrors",
     "evalue": "A total of 4 schema errors were found.\n\nError Counts\n------------\n- schema_component_check: 4\n\nSchema Error Summary\n--------------------\n                                            failure_cases  n_failure_cases\nschema_context column    check                                            \nColumn         rh        greater_than(30)           [8.2]                1\n               t_c       less_than(35)             [44.0]                1\n               t_c_delta greater_than(-0.6)       [-30.0]                1\n                         less_than(0.6)            [30.0]                1\n\nUsage Tip\n---------\n\nDirectly inspect all errors by catching the exception:\n\n```\ntry:\n    schema.validate(dataframe, lazy=True)\nexcept SchemaErrors as err:\n    err.failure_cases  # dataframe of schema errors\n    err.data  # invalid dataframe\n```\n",
     "output_type": "error",
     "traceback": [
      "\u001b[0;31m---------------------------------------------------------------------------\u001b[0m",
      "\u001b[0;31mSchemaErrors\u001b[0m                              Traceback (most recent call last)",
      "Input \u001b[0;32mIn [7]\u001b[0m, in \u001b[0;36m<module>\u001b[0;34m\u001b[0m\n\u001b[1;32m     28\u001b[0m         \u001b[38;5;28mprint\u001b[39m(err\u001b[38;5;241m.\u001b[39mdata)  \u001b[38;5;66;03m# invalid dataframe\u001b[39;00m\n\u001b[1;32m     30\u001b[0m df_raw \u001b[38;5;241m=\u001b[39m load_data(FILENAME_KITCHEN)\n\u001b[0;32m---> 31\u001b[0m \u001b[43msanity_check_raw\u001b[49m\u001b[43m(\u001b[49m\u001b[43mdf_raw\u001b[49m\u001b[43m)\u001b[49m\n\u001b[1;32m     32\u001b[0m \u001b[38;5;28mprint\u001b[39m(\u001b[38;5;124m\"\u001b[39m\u001b[38;5;124mNo problems seen\u001b[39m\u001b[38;5;124m\"\u001b[39m)\n",
      "Input \u001b[0;32mIn [7]\u001b[0m, in \u001b[0;36msanity_check_raw\u001b[0;34m(df)\u001b[0m\n\u001b[1;32m      8\u001b[0m df[\u001b[38;5;124m'\u001b[39m\u001b[38;5;124mt_c_delta\u001b[39m\u001b[38;5;124m'\u001b[39m] \u001b[38;5;241m=\u001b[39m df[\u001b[38;5;124m'\u001b[39m\u001b[38;5;124mt_c_delta\u001b[39m\u001b[38;5;124m'\u001b[39m]\u001b[38;5;241m.\u001b[39mfillna(\u001b[38;5;241m0\u001b[39m)\n\u001b[1;32m      9\u001b[0m schema \u001b[38;5;241m=\u001b[39m pa\u001b[38;5;241m.\u001b[39mDataFrameSchema(\n\u001b[1;32m     10\u001b[0m     {\n\u001b[1;32m     11\u001b[0m         \u001b[38;5;66;03m# we get 4 errors from this\u001b[39;00m\n\u001b[0;32m   (...)\u001b[0m\n\u001b[1;32m     19\u001b[0m     ordered\u001b[38;5;241m=\u001b[39m\u001b[38;5;28;01mTrue\u001b[39;00m,\n\u001b[1;32m     20\u001b[0m )\n\u001b[0;32m---> 21\u001b[0m validated_df \u001b[38;5;241m=\u001b[39m \u001b[43mschema\u001b[49m\u001b[43m(\u001b[49m\u001b[43mdf\u001b[49m\u001b[43m,\u001b[49m\u001b[43m \u001b[49m\u001b[43mlazy\u001b[49m\u001b[38;5;241;43m=\u001b[39;49m\u001b[38;5;28;43;01mTrue\u001b[39;49;00m\u001b[43m)\u001b[49m\n\u001b[1;32m     24\u001b[0m \u001b[38;5;28;01mtry\u001b[39;00m:\n\u001b[1;32m     25\u001b[0m     schema\u001b[38;5;241m.\u001b[39mvalidate(df, lazy\u001b[38;5;241m=\u001b[39m\u001b[38;5;28;01mTrue\u001b[39;00m)\n",
      "File \u001b[0;32m~/miniconda3/envs/course/lib/python3.9/site-packages/pandera/schemas.py:768\u001b[0m, in \u001b[0;36mDataFrameSchema.__call__\u001b[0;34m(self, dataframe, head, tail, sample, random_state, lazy, inplace)\u001b[0m\n\u001b[1;32m    740\u001b[0m \u001b[38;5;28;01mdef\u001b[39;00m \u001b[38;5;21m__call__\u001b[39m(\n\u001b[1;32m    741\u001b[0m     \u001b[38;5;28mself\u001b[39m,\n\u001b[1;32m    742\u001b[0m     dataframe: pd\u001b[38;5;241m.\u001b[39mDataFrame,\n\u001b[0;32m   (...)\u001b[0m\n\u001b[1;32m    748\u001b[0m     inplace: \u001b[38;5;28mbool\u001b[39m \u001b[38;5;241m=\u001b[39m \u001b[38;5;28;01mFalse\u001b[39;00m,\n\u001b[1;32m    749\u001b[0m ):\n\u001b[1;32m    750\u001b[0m     \u001b[38;5;124;03m\"\"\"Alias for :func:`DataFrameSchema.validate` method.\u001b[39;00m\n\u001b[1;32m    751\u001b[0m \n\u001b[1;32m    752\u001b[0m \u001b[38;5;124;03m    :param pd.DataFrame dataframe: the dataframe to be validated.\u001b[39;00m\n\u001b[0;32m   (...)\u001b[0m\n\u001b[1;32m    766\u001b[0m \u001b[38;5;124;03m        otherwise creates a copy of the data.\u001b[39;00m\n\u001b[1;32m    767\u001b[0m \u001b[38;5;124;03m    \"\"\"\u001b[39;00m\n\u001b[0;32m--> 768\u001b[0m     \u001b[38;5;28;01mreturn\u001b[39;00m \u001b[38;5;28;43mself\u001b[39;49m\u001b[38;5;241;43m.\u001b[39;49m\u001b[43mvalidate\u001b[49m\u001b[43m(\u001b[49m\n\u001b[1;32m    769\u001b[0m \u001b[43m        \u001b[49m\u001b[43mdataframe\u001b[49m\u001b[43m,\u001b[49m\u001b[43m \u001b[49m\u001b[43mhead\u001b[49m\u001b[43m,\u001b[49m\u001b[43m \u001b[49m\u001b[43mtail\u001b[49m\u001b[43m,\u001b[49m\u001b[43m \u001b[49m\u001b[43msample\u001b[49m\u001b[43m,\u001b[49m\u001b[43m \u001b[49m\u001b[43mrandom_state\u001b[49m\u001b[43m,\u001b[49m\u001b[43m \u001b[49m\u001b[43mlazy\u001b[49m\u001b[43m,\u001b[49m\u001b[43m \u001b[49m\u001b[43minplace\u001b[49m\n\u001b[1;32m    770\u001b[0m \u001b[43m    \u001b[49m\u001b[43m)\u001b[49m\n",
      "File \u001b[0;32m~/miniconda3/envs/course/lib/python3.9/site-packages/pandera/schemas.py:503\u001b[0m, in \u001b[0;36mDataFrameSchema.validate\u001b[0;34m(self, check_obj, head, tail, sample, random_state, lazy, inplace)\u001b[0m\n\u001b[1;32m    490\u001b[0m     check_obj \u001b[38;5;241m=\u001b[39m check_obj\u001b[38;5;241m.\u001b[39mmap_partitions(\n\u001b[1;32m    491\u001b[0m         \u001b[38;5;28mself\u001b[39m\u001b[38;5;241m.\u001b[39m_validate,\n\u001b[1;32m    492\u001b[0m         head\u001b[38;5;241m=\u001b[39mhead,\n\u001b[0;32m   (...)\u001b[0m\n\u001b[1;32m    498\u001b[0m         meta\u001b[38;5;241m=\u001b[39mcheck_obj,\n\u001b[1;32m    499\u001b[0m     )\n\u001b[1;32m    501\u001b[0m     \u001b[38;5;28;01mreturn\u001b[39;00m check_obj\u001b[38;5;241m.\u001b[39mpandera\u001b[38;5;241m.\u001b[39madd_schema(\u001b[38;5;28mself\u001b[39m)\n\u001b[0;32m--> 503\u001b[0m \u001b[38;5;28;01mreturn\u001b[39;00m \u001b[38;5;28;43mself\u001b[39;49m\u001b[38;5;241;43m.\u001b[39;49m\u001b[43m_validate\u001b[49m\u001b[43m(\u001b[49m\n\u001b[1;32m    504\u001b[0m \u001b[43m    \u001b[49m\u001b[43mcheck_obj\u001b[49m\u001b[38;5;241;43m=\u001b[39;49m\u001b[43mcheck_obj\u001b[49m\u001b[43m,\u001b[49m\n\u001b[1;32m    505\u001b[0m \u001b[43m    \u001b[49m\u001b[43mhead\u001b[49m\u001b[38;5;241;43m=\u001b[39;49m\u001b[43mhead\u001b[49m\u001b[43m,\u001b[49m\n\u001b[1;32m    506\u001b[0m \u001b[43m    \u001b[49m\u001b[43mtail\u001b[49m\u001b[38;5;241;43m=\u001b[39;49m\u001b[43mtail\u001b[49m\u001b[43m,\u001b[49m\n\u001b[1;32m    507\u001b[0m \u001b[43m    \u001b[49m\u001b[43msample\u001b[49m\u001b[38;5;241;43m=\u001b[39;49m\u001b[43msample\u001b[49m\u001b[43m,\u001b[49m\n\u001b[1;32m    508\u001b[0m \u001b[43m    \u001b[49m\u001b[43mrandom_state\u001b[49m\u001b[38;5;241;43m=\u001b[39;49m\u001b[43mrandom_state\u001b[49m\u001b[43m,\u001b[49m\n\u001b[1;32m    509\u001b[0m \u001b[43m    \u001b[49m\u001b[43mlazy\u001b[49m\u001b[38;5;241;43m=\u001b[39;49m\u001b[43mlazy\u001b[49m\u001b[43m,\u001b[49m\n\u001b[1;32m    510\u001b[0m \u001b[43m    \u001b[49m\u001b[43minplace\u001b[49m\u001b[38;5;241;43m=\u001b[39;49m\u001b[43minplace\u001b[49m\u001b[43m,\u001b[49m\n\u001b[1;32m    511\u001b[0m \u001b[43m\u001b[49m\u001b[43m)\u001b[49m\n",
      "File \u001b[0;32m~/miniconda3/envs/course/lib/python3.9/site-packages/pandera/schemas.py:733\u001b[0m, in \u001b[0;36mDataFrameSchema._validate\u001b[0;34m(self, check_obj, head, tail, sample, random_state, lazy, inplace)\u001b[0m\n\u001b[1;32m    721\u001b[0m             error_handler\u001b[38;5;241m.\u001b[39mcollect_error(\n\u001b[1;32m    722\u001b[0m                 \u001b[38;5;124m\"\u001b[39m\u001b[38;5;124mduplicates\u001b[39m\u001b[38;5;124m\"\u001b[39m,\n\u001b[1;32m    723\u001b[0m                 errors\u001b[38;5;241m.\u001b[39mSchemaError(\n\u001b[0;32m   (...)\u001b[0m\n\u001b[1;32m    729\u001b[0m                 ),\n\u001b[1;32m    730\u001b[0m             )\n\u001b[1;32m    732\u001b[0m \u001b[38;5;28;01mif\u001b[39;00m lazy \u001b[38;5;129;01mand\u001b[39;00m error_handler\u001b[38;5;241m.\u001b[39mcollected_errors:\n\u001b[0;32m--> 733\u001b[0m     \u001b[38;5;28;01mraise\u001b[39;00m errors\u001b[38;5;241m.\u001b[39mSchemaErrors(\n\u001b[1;32m    734\u001b[0m         error_handler\u001b[38;5;241m.\u001b[39mcollected_errors, check_obj\n\u001b[1;32m    735\u001b[0m     )\n\u001b[1;32m    737\u001b[0m \u001b[38;5;28;01massert\u001b[39;00m \u001b[38;5;28mall\u001b[39m(check_results), \u001b[38;5;124m\"\u001b[39m\u001b[38;5;124mall check results must be True.\u001b[39m\u001b[38;5;124m\"\u001b[39m\n\u001b[1;32m    738\u001b[0m \u001b[38;5;28;01mreturn\u001b[39;00m check_obj\n",
      "\u001b[0;31mSchemaErrors\u001b[0m: A total of 4 schema errors were found.\n\nError Counts\n------------\n- schema_component_check: 4\n\nSchema Error Summary\n--------------------\n                                            failure_cases  n_failure_cases\nschema_context column    check                                            \nColumn         rh        greater_than(30)           [8.2]                1\n               t_c       less_than(35)             [44.0]                1\n               t_c_delta greater_than(-0.6)       [-30.0]                1\n                         less_than(0.6)            [30.0]                1\n\nUsage Tip\n---------\n\nDirectly inspect all errors by catching the exception:\n\n```\ntry:\n    schema.validate(dataframe, lazy=True)\nexcept SchemaErrors as err:\n    err.failure_cases  # dataframe of schema errors\n    err.data  # invalid dataframe\n```\n"
     ]
    }
   ],
   "source": [
    "def sanity_check_raw(df):\n",
    "    # this time we don't reset_index, so we have to configure our schema\n",
    "    # to have a pa.Index entry\n",
    "    min_date = \"2021-12-22\" # LARGER min_date\n",
    "    max_date = \"2022-12-12\"\n",
    "    df = df.copy()\n",
    "    df['t_c_delta'] = df['t_c'].shift() - df['t_c']\n",
    "    df['t_c_delta'] = df['t_c_delta'].fillna(0)\n",
    "    schema = pa.DataFrameSchema(\n",
    "        {\n",
    "            # we get 4 errors from this\n",
    "            \"t_c\": pa.Column(float, checks=[pa.Check.gt(10), pa.Check.lt(35)]),\n",
    "            \"rh\": pa.Column(float, checks=[pa.Check.gt(30), pa.Check.lt(100)]),\n",
    "            \"t_c_delta\": pa.Column(float, checks=[pa.Check.gt(-0.6), pa.Check.lt(0.6)]),\n",
    "        },\n",
    "        index=pa.Index(\n",
    "            \"datetime64[ns]\", checks=[pa.Check.gt(min_date), pa.Check.lt(max_date)]\n",
    "        ),\n",
    "        ordered=True,\n",
    "    )\n",
    "    validated_df = schema(df, lazy=True)\n",
    "\n",
    "\n",
    "    try:\n",
    "        schema.validate(df, lazy=True)\n",
    "    except SchemaErrors as err:\n",
    "        print(err.failure_cases)  # dataframe of schema errors\n",
    "        print(err.data)  # invalid dataframe\n",
    "        \n",
    "df_raw = load_data(FILENAME_KITCHEN)\n",
    "sanity_check_raw(df_raw)\n",
    "print(\"No problems seen\")\n"
   ]
  },
  {
   "cell_type": "markdown",
   "id": "e7deb3a0",
   "metadata": {},
   "source": [
    "# Bonus - data generation using Pandera\n",
    "\n",
    "* We can validate our rules to see what \"random reasonable stuff\" looks like for a sanity check\n",
    "* We can use the `hypothesis` library to build more complex tests, see https://pandera.readthedocs.io/en/stable/data_synthesis_strategies.html"
   ]
  },
  {
   "cell_type": "code",
   "execution_count": 8,
   "id": "0dff7c42",
   "metadata": {},
   "outputs": [
    {
     "name": "stdout",
     "output_type": "stream",
     "text": [
      "No problems seen\n"
     ]
    }
   ],
   "source": [
    "# NOTE I'VE FLATTENED THE FUNCTION TO MAKE THIS EASIER TO READ\n",
    "\n",
    "# this time we don't reset_index, so we have to configure our schema\n",
    "# to have a pa.Index entry\n",
    "# NOTE the `example` function needs Timestamps not strings here\n",
    "min_date = pd.Timestamp(\"2021-12-22\") # LARGER min_date\n",
    "max_date = pd.Timestamp(\"2022-12-12\")\n",
    "df = df_30min.copy()\n",
    "\n",
    "df['t_c_delta'] = df['t_c'].shift() - df['t_c']\n",
    "df['t_c_delta'] = df['t_c_delta'].fillna(0)\n",
    "schema = pa.DataFrameSchema(\n",
    "    {\n",
    "        \"t_c\": pa.Column(float, checks=[pa.Check.gt(10), pa.Check.lt(35)]),\n",
    "        \"rh\": pa.Column(float, checks=[pa.Check.gt(30), pa.Check.lt(100)]),\n",
    "        \"t_c_delta\": pa.Column(float, checks=[pa.Check.gt(-2.5), pa.Check.lt(2.5)]),\n",
    "    },\n",
    "    index=pa.Index(\n",
    "        \"datetime64[ns]\", checks=[pa.Check.gt(min_date), pa.Check.lt(max_date)]\n",
    "    ),\n",
    "    ordered=True,\n",
    ")\n",
    "validated_df = schema(df, lazy=True)\n",
    "\n",
    "\n",
    "try:\n",
    "    schema.validate(df, lazy=True)\n",
    "except SchemaErrors as err:\n",
    "    print(err.failure_cases)  # dataframe of schema errors\n",
    "    print(err.data)  # invalid dataframe\n",
    "        \n",
    "#sanity_check_raw(df_30min)\n",
    "print(\"No problems seen\")"
   ]
  },
  {
   "cell_type": "code",
   "execution_count": 9,
   "id": "08631b02",
   "metadata": {},
   "outputs": [
    {
     "data": {
      "text/html": [
       "<div>\n",
       "<style scoped>\n",
       "    .dataframe tbody tr th:only-of-type {\n",
       "        vertical-align: middle;\n",
       "    }\n",
       "\n",
       "    .dataframe tbody tr th {\n",
       "        vertical-align: top;\n",
       "    }\n",
       "\n",
       "    .dataframe thead th {\n",
       "        text-align: right;\n",
       "    }\n",
       "</style>\n",
       "<table border=\"1\" class=\"dataframe\">\n",
       "  <thead>\n",
       "    <tr style=\"text-align: right;\">\n",
       "      <th></th>\n",
       "      <th>t_c</th>\n",
       "      <th>rh</th>\n",
       "      <th>t_c_delta</th>\n",
       "    </tr>\n",
       "  </thead>\n",
       "  <tbody>\n",
       "    <tr>\n",
       "      <th>2021-12-22 00:00:00.217857038</th>\n",
       "      <td>10.333333</td>\n",
       "      <td>30.333333</td>\n",
       "      <td>-1.931876e+00</td>\n",
       "    </tr>\n",
       "    <tr>\n",
       "      <th>2021-12-22 00:00:00.000053201</th>\n",
       "      <td>10.333333</td>\n",
       "      <td>30.000000</td>\n",
       "      <td>1.401298e-45</td>\n",
       "    </tr>\n",
       "    <tr>\n",
       "      <th>2021-12-22 00:00:00.000029274</th>\n",
       "      <td>10.000010</td>\n",
       "      <td>30.000010</td>\n",
       "      <td>2.225074e-309</td>\n",
       "    </tr>\n",
       "    <tr>\n",
       "      <th>2021-12-22 00:00:00.000057873</th>\n",
       "      <td>11.500000</td>\n",
       "      <td>30.000000</td>\n",
       "      <td>1.100000e+00</td>\n",
       "    </tr>\n",
       "    <tr>\n",
       "      <th>2021-12-22 00:00:00.000000148</th>\n",
       "      <td>12.000010</td>\n",
       "      <td>30.000000</td>\n",
       "      <td>-1.684091e+00</td>\n",
       "    </tr>\n",
       "  </tbody>\n",
       "</table>\n",
       "</div>"
      ],
      "text/plain": [
       "                                     t_c         rh      t_c_delta\n",
       "2021-12-22 00:00:00.217857038  10.333333  30.333333  -1.931876e+00\n",
       "2021-12-22 00:00:00.000053201  10.333333  30.000000   1.401298e-45\n",
       "2021-12-22 00:00:00.000029274  10.000010  30.000010  2.225074e-309\n",
       "2021-12-22 00:00:00.000057873  11.500000  30.000000   1.100000e+00\n",
       "2021-12-22 00:00:00.000000148  12.000010  30.000000  -1.684091e+00"
      ]
     },
     "execution_count": 9,
     "metadata": {},
     "output_type": "execute_result"
    }
   ],
   "source": [
    "schema.example(size=5)"
   ]
  },
  {
   "cell_type": "code",
   "execution_count": null,
   "id": "7e51d69c",
   "metadata": {},
   "outputs": [],
   "source": []
  }
 ],
 "metadata": {
  "kernelspec": {
   "display_name": "Python 3 (ipykernel)",
   "language": "python",
   "name": "python3"
  },
  "language_info": {
   "codemirror_mode": {
    "name": "ipython",
    "version": 3
   },
   "file_extension": ".py",
   "mimetype": "text/x-python",
   "name": "python",
   "nbconvert_exporter": "python",
   "pygments_lexer": "ipython3",
   "version": "3.9.9"
  }
 },
 "nbformat": 4,
 "nbformat_minor": 5
}

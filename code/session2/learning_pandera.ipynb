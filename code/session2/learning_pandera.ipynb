{
 "cells": [
  {
   "cell_type": "markdown",
   "id": "f93cbcfb",
   "metadata": {},
   "source": [
    "# Pandera\n",
    "\n",
    "Let's work through using `assert` to catch some data assumptions, then making it more solid with Pandera on the 30 minute resampled data - then you'll do some homework on the raw data.\n",
    "\n",
    "----"
   ]
  },
  {
   "cell_type": "code",
   "execution_count": 1,
   "id": "0003c789",
   "metadata": {},
   "outputs": [],
   "source": [
    "import pandas as pd\n",
    "import pandera as pa\n",
    "from pandera.errors import SchemaErrors\n",
    "import matplotlib.pyplot as plt\n",
    "\n",
    "from utility import (\n",
    "    make_max_water_by_temp_dataframe,\n",
    "    set_common_mpl_styles,\n",
    "    load_data,\n",
    "    plot_day,\n",
    "    make_estimated_water_plot,\n",
    "    make_bin_edges,\n",
    "    make_bootstrap,\n",
    ")\n",
    "\n",
    "FILENAME_KITCHEN = \"Kitchen_export_202112311652.csv\""
   ]
  },
  {
   "cell_type": "markdown",
   "id": "2e6867d4",
   "metadata": {},
   "source": [
    "# Load kitchen data"
   ]
  },
  {
   "cell_type": "code",
   "execution_count": 2,
   "id": "2f5a046b",
   "metadata": {},
   "outputs": [
    {
     "name": "stdout",
     "output_type": "stream",
     "text": [
      "Date range 2021-12-22 17:00:00 - 2021-12-31 16:52:00\n",
      "Working on 2021-12-24\n"
     ]
    },
    {
     "data": {
      "text/html": [
       "<div>\n",
       "<style scoped>\n",
       "    .dataframe tbody tr th:only-of-type {\n",
       "        vertical-align: middle;\n",
       "    }\n",
       "\n",
       "    .dataframe tbody tr th {\n",
       "        vertical-align: top;\n",
       "    }\n",
       "\n",
       "    .dataframe thead th {\n",
       "        text-align: right;\n",
       "    }\n",
       "</style>\n",
       "<table border=\"1\" class=\"dataframe\">\n",
       "  <thead>\n",
       "    <tr style=\"text-align: right;\">\n",
       "      <th></th>\n",
       "      <th>t_c</th>\n",
       "      <th>rh</th>\n",
       "    </tr>\n",
       "    <tr>\n",
       "      <th>timestamp</th>\n",
       "      <th></th>\n",
       "      <th></th>\n",
       "    </tr>\n",
       "  </thead>\n",
       "  <tbody>\n",
       "    <tr>\n",
       "      <th>2021-12-22 17:00:00</th>\n",
       "      <td>14.0</td>\n",
       "      <td>48.1</td>\n",
       "    </tr>\n",
       "    <tr>\n",
       "      <th>2021-12-22 17:01:00</th>\n",
       "      <td>14.0</td>\n",
       "      <td>48.2</td>\n",
       "    </tr>\n",
       "    <tr>\n",
       "      <th>2021-12-22 17:02:00</th>\n",
       "      <td>14.0</td>\n",
       "      <td>48.1</td>\n",
       "    </tr>\n",
       "    <tr>\n",
       "      <th>2021-12-22 17:03:00</th>\n",
       "      <td>14.0</td>\n",
       "      <td>48.1</td>\n",
       "    </tr>\n",
       "    <tr>\n",
       "      <th>2021-12-22 17:04:00</th>\n",
       "      <td>14.0</td>\n",
       "      <td>48.2</td>\n",
       "    </tr>\n",
       "  </tbody>\n",
       "</table>\n",
       "</div>"
      ],
      "text/plain": [
       "                      t_c    rh\n",
       "timestamp                      \n",
       "2021-12-22 17:00:00  14.0  48.1\n",
       "2021-12-22 17:01:00  14.0  48.2\n",
       "2021-12-22 17:02:00  14.0  48.1\n",
       "2021-12-22 17:03:00  14.0  48.1\n",
       "2021-12-22 17:04:00  14.0  48.2"
      ]
     },
     "execution_count": 2,
     "metadata": {},
     "output_type": "execute_result"
    }
   ],
   "source": [
    "df_raw = load_data(FILENAME_KITCHEN)\n",
    "\n",
    "# now let's choose a day\n",
    "day_to_choose = \"2021-12-24\"\n",
    "print(f\"Working on {day_to_choose}\")\n",
    "assert pd.to_datetime(day_to_choose) > df_raw.index.min(), \"Must be in date range\"\n",
    "assert pd.to_datetime(day_to_choose) < df_raw.index.max(), \"Must be in date range\"\n",
    "\n",
    "assert df_raw[\"t_c\"].max() < 50, \"Never expecting above 50C in the house\"\n",
    "assert (\n",
    "    df_raw[\"rh\"].min() > 0\n",
    "), \"Relative humidify can't be below 0% saturation in a normal house\"\n",
    "\n",
    "df_raw.head()"
   ]
  },
  {
   "cell_type": "code",
   "execution_count": 3,
   "id": "3ce56fc2",
   "metadata": {},
   "outputs": [
    {
     "data": {
      "text/html": [
       "<div>\n",
       "<style scoped>\n",
       "    .dataframe tbody tr th:only-of-type {\n",
       "        vertical-align: middle;\n",
       "    }\n",
       "\n",
       "    .dataframe tbody tr th {\n",
       "        vertical-align: top;\n",
       "    }\n",
       "\n",
       "    .dataframe thead th {\n",
       "        text-align: right;\n",
       "    }\n",
       "</style>\n",
       "<table border=\"1\" class=\"dataframe\">\n",
       "  <thead>\n",
       "    <tr style=\"text-align: right;\">\n",
       "      <th></th>\n",
       "      <th>t_c</th>\n",
       "      <th>rh</th>\n",
       "    </tr>\n",
       "    <tr>\n",
       "      <th>timestamp</th>\n",
       "      <th></th>\n",
       "      <th></th>\n",
       "    </tr>\n",
       "  </thead>\n",
       "  <tbody>\n",
       "    <tr>\n",
       "      <th>2021-12-22 17:00:00</th>\n",
       "      <td>14.916667</td>\n",
       "      <td>46.893333</td>\n",
       "    </tr>\n",
       "    <tr>\n",
       "      <th>2021-12-22 17:30:00</th>\n",
       "      <td>13.756667</td>\n",
       "      <td>48.800000</td>\n",
       "    </tr>\n",
       "    <tr>\n",
       "      <th>2021-12-22 18:00:00</th>\n",
       "      <td>13.860000</td>\n",
       "      <td>51.653333</td>\n",
       "    </tr>\n",
       "    <tr>\n",
       "      <th>2021-12-22 18:30:00</th>\n",
       "      <td>14.760000</td>\n",
       "      <td>53.906667</td>\n",
       "    </tr>\n",
       "    <tr>\n",
       "      <th>2021-12-22 19:00:00</th>\n",
       "      <td>15.053333</td>\n",
       "      <td>52.816667</td>\n",
       "    </tr>\n",
       "  </tbody>\n",
       "</table>\n",
       "</div>"
      ],
      "text/plain": [
       "                           t_c         rh\n",
       "timestamp                                \n",
       "2021-12-22 17:00:00  14.916667  46.893333\n",
       "2021-12-22 17:30:00  13.756667  48.800000\n",
       "2021-12-22 18:00:00  13.860000  51.653333\n",
       "2021-12-22 18:30:00  14.760000  53.906667\n",
       "2021-12-22 19:00:00  15.053333  52.816667"
      ]
     },
     "execution_count": 3,
     "metadata": {},
     "output_type": "execute_result"
    }
   ],
   "source": [
    "df_30min = df_raw.resample(\"30min\").mean()\n",
    "\n",
    "df_30min.head()"
   ]
  },
  {
   "cell_type": "markdown",
   "id": "c8e3cfe9",
   "metadata": {},
   "source": [
    "# Try Pandera to catch errors with some debug info"
   ]
  },
  {
   "cell_type": "code",
   "execution_count": 4,
   "id": "b63156b5",
   "metadata": {},
   "outputs": [],
   "source": [
    "# Examples to try\n",
    "# rh must be >60 (not >0) - multiple examples, all on 1 line with lazy=True\n",
    "# rh > 60 lazy=False to show 1 with a better output\n",
    "# rh > 60 and rh < 70 lazy=True to show both sets \n",
    "# rh > 60 and rh < 70 lazy=False to show only the first\n",
    "\n",
    "def sanity_check_data_with_index(df):\n",
    "    min_date = \"2021-01-01\"\n",
    "    max_date = \"2022-12-12\"\n",
    "    schema = pa.DataFrameSchema(\n",
    "        {\n",
    "            \"rh\": pa.Column(float, checks=[pa.Check.gt(0), pa.Check.lt(100)]),\n",
    "            #\"rh\": pa.Column(float, checks=[pa.Check.gt(60), pa.Check.lt(70)]),\n",
    "        },\n",
    "        index=pa.Index(\n",
    "            \"datetime64[ns]\", checks=[pa.Check.gt(min_date), pa.Check.lt(max_date)]\n",
    "        ),\n",
    "        ordered=True,\n",
    "    )\n",
    "    validated_df = schema(df, lazy=True)\n",
    "    \n",
    "sanity_check_data_with_index(df_30min)"
   ]
  },
  {
   "cell_type": "markdown",
   "id": "edadfe89",
   "metadata": {},
   "source": [
    "# Catch better descriptions"
   ]
  },
  {
   "cell_type": "code",
   "execution_count": 5,
   "id": "2e544ac9",
   "metadata": {},
   "outputs": [],
   "source": [
    "# Examples to try\n",
    "# rh > 60 and rh < 70 lazy=True to show descriptions of errors\n",
    "\n",
    "def sanity_check_data_with_index_exception(df):\n",
    "    min_date = \"2021-01-01\"\n",
    "    max_date = \"2022-12-12\"\n",
    "    schema = pa.DataFrameSchema(\n",
    "        {\n",
    "            \"rh\": pa.Column(float, checks=[pa.Check.gt(0), pa.Check.lt(100)]),\n",
    "            #\"rh\": pa.Column(float, checks=[pa.Check.gt(60), pa.Check.lt(70)]),\n",
    "        },\n",
    "        index=pa.Index(\n",
    "            \"datetime64[ns]\", checks=[pa.Check.gt(min_date), pa.Check.lt(max_date)]\n",
    "        ),\n",
    "        ordered=True,\n",
    "    )\n",
    "    try:\n",
    "        schema.validate(df, lazy=True)\n",
    "    except SchemaErrors as err:\n",
    "        print(err.failure_cases)  # dataframe of schema errors\n",
    "        print(err.data)  # invalid dataframe\n",
    "        \n",
    "sanity_check_data_with_index_exception(df_30min)\n"
   ]
  },
  {
   "cell_type": "markdown",
   "id": "117dbc93",
   "metadata": {},
   "source": [
    "# Homework\n",
    "\n",
    "We've caught errors on the 30 minute resampled data - this is generated from `df_raw` where 30 * 1min datapoints are summarised (with `mean`) to make our processed data. What sins might exist in the raw data?\n",
    "\n",
    "The function below will run on `df_raw`, not `df_30min`.\n",
    "\n",
    "We've caught `rh` problems - now try to catch `t_c` problems. We'll expect a range of e.g. >10 to <35 Celcius in the house - can you test for that? Copy one of the above functions, give it a new name, then try it out. \n",
    "\n",
    "Can you update `rh` to check for a humidity between 30% and 100%?\n",
    "\n",
    "Remember that `ordered=True` is set so if you defined the `t_c` row _after_ `rh` then it'll be out of order, you want `rh` and then `t_c` - but try to swap them so you can see the error you get.\n",
    "\n",
    "What's the largest `min_date` you can get before you get an error?\n",
    "\n",
    "Bonus - define a new `t_c_delta` column using:\n",
    "```\n",
    "    df = df.copy()\n",
    "    df['t_c_delta'] = df['t_c'].shift() - df['t_c']\n",
    "    df['t_c_delta'] = df['t_c_delta'].fillna(0)\n",
    "```\n",
    "which will give the 30min differences per rows, add a 3rd check for `t_c_delta` after `rh`, check for a sensible minimum and maximum change in temperature per 30 minute sampling gap. What's biggest change you might sensibly expect? That's a good starting point."
   ]
  },
  {
   "cell_type": "code",
   "execution_count": 6,
   "id": "553b70db",
   "metadata": {},
   "outputs": [
    {
     "name": "stdout",
     "output_type": "stream",
     "text": [
      "Date range 2021-12-22 17:00:00 - 2021-12-31 16:52:00\n",
      "No problems seen\n"
     ]
    }
   ],
   "source": [
    "def sanity_check_raw(df):\n",
    "    min_date = \"2021-01-01\"\n",
    "    max_date = \"2022-12-12\"\n",
    "    schema = pa.DataFrameSchema(\n",
    "        {\n",
    "            \"rh\": pa.Column(float, checks=[pa.Check.gt(00), pa.Check.lt(100)]),\n",
    "        },\n",
    "        index=pa.Index(\n",
    "            \"datetime64[ns]\", checks=[pa.Check.gt(min_date), pa.Check.lt(max_date)]\n",
    "        ),\n",
    "        ordered=True,\n",
    "    )\n",
    "    validated_df = schema(df, lazy=True)\n",
    "\n",
    "    try:\n",
    "        schema.validate(df, lazy=True)\n",
    "    except SchemaErrors as err:\n",
    "        print(err.failure_cases)  # dataframe of schema errors\n",
    "        print(err.data)  # invalid dataframe\n",
    "\n",
    "# no need to reload the data, it is just convenient to have it to hand whilst you iterate here\n",
    "df_raw = load_data(FILENAME_KITCHEN)\n",
    "sanity_check_raw(df_raw)\n",
    "print(\"No problems seen\")"
   ]
  },
  {
   "cell_type": "code",
   "execution_count": null,
   "id": "c4a4d8cd",
   "metadata": {},
   "outputs": [],
   "source": []
  }
 ],
 "metadata": {
  "kernelspec": {
   "display_name": "Python 3 (ipykernel)",
   "language": "python",
   "name": "python3"
  },
  "language_info": {
   "codemirror_mode": {
    "name": "ipython",
    "version": 3
   },
   "file_extension": ".py",
   "mimetype": "text/x-python",
   "name": "python",
   "nbconvert_exporter": "python",
   "pygments_lexer": "ipython3",
   "version": "3.9.9"
  }
 },
 "nbformat": 4,
 "nbformat_minor": 5
}

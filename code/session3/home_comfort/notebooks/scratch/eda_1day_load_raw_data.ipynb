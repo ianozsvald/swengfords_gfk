{
 "cells": [
  {
   "cell_type": "markdown",
   "id": "f93cbcfb",
   "metadata": {},
   "source": [
    "# STUDENT - what is going on below?\n",
    "\n",
    "You need to read this Notebook and assume that a colleague has asked you for a code review. What is potentially most damaging to their ongoing productivity and correctness? \n",
    "\n",
    "* Are there examples of unnecessary repetition?\n",
    "* Are there bad naming standards which makes the code look \"non-Pythonic\"?\n",
    "* Can you interpret their method and results clearly?\n",
    "\n",
    "----"
   ]
  },
  {
   "cell_type": "markdown",
   "id": "8651ab09",
   "metadata": {},
   "source": [
    "# Analysis of household air-moisture levels\n",
    "\n",
    "As part of an ongoing analysis to derive metadata from a timeseries we're using some household data at the 1 minute level to display temperature & humidity levels in our house in 2 rooms.\n",
    "\n",
    "We then back-calculate the moisture level (grams per metre cubed) for the actual amount of water in a cubed meter or air near the sensor, to get an understanding of where the most or least water is in the house and which household events affect these levels.\n",
    "\n",
    "We can use similar processes to derive signals for work-releated problems on our own timeseries data, this analysis combines both work and play and will be used as an internal proof-of-concept to get sign-off from the team for running a similar project on internal business data."
   ]
  },
  {
   "cell_type": "code",
   "execution_count": 1,
   "id": "0003c789",
   "metadata": {},
   "outputs": [],
   "source": [
    "import pandas as pd\n",
    "import matplotlib.pyplot as plt\n",
    "import numpy as np\n",
    "import pandera as pa\n",
    "\n",
    "\n",
    "from src.utility import make_max_water_by_temp_dataframe\n",
    "from src.utility import set_common_mpl_styles\n",
    "\n",
    "FILENAME_KITCHEN = \"Kitchen_export_202112311652.csv\"\n",
    "FILENAME_HALL = \"First floor hall_export_202112311700.csv\"\n",
    "FILENAME_BACK_ROOM = \"Dog room_export_202112311653.csv\"\n",
    "FILENAME_LIVING_ROOM = \"Living Room_export_202112311656.csv\"\n",
    "FILENAME_ROOF_OFFICE = \"Roof Office_export_202112311626.csv\"\n",
    "\n",
    "# filename = FILENAME_KITCHEN\n",
    "filename = FILENAME_HALL\n",
    "# filename = FILENAME_BACK_ROOM\n",
    "# filename = FILENAME_LIVING_ROOM\n",
    "# filename = FILENAME_ROOF_OFFICE\n",
    "\n",
    "\n",
    "def load_data(filename):\n",
    "    df = pd.read_csv(filename, parse_dates=True)\n",
    "\n",
    "    # check for the badness from data supplier\n",
    "    # we check that these columns are hard to read (that's the supplier's fault!)\n",
    "    cols = [\n",
    "        \"Timestamp\\xa0for\\xa0sample\\xa0frequency\\xa0every\\xa01 min\\xa0min\",\n",
    "        \" Temperature_Celsius\",\n",
    "        \"Relative_Humidity\",\n",
    "    ]\n",
    "    for idx, expected_col_name in enumerate(cols):\n",
    "        if df.columns[idx] != expected_col_name:\n",
    "            raise ValueError(\n",
    "                f\"Column {idx} expected to say {expected_col_name} but instead has {df.columns[idx]}\"\n",
    "            )\n",
    "\n",
    "    # and then we can rename the columns to something sane\n",
    "    df.columns = [\"timestamp\", \"t_c\", \"rh\"]\n",
    "\n",
    "    df[\"timestamp\"] = pd.to_datetime(df.reset_index()[\"timestamp\"])\n",
    "\n",
    "    df = df.set_index(\"timestamp\")  # FIXED NO INPLACE\n",
    "    print(f\"Date range {df.index.min()} - {df.index.max()}\")\n",
    "    return df"
   ]
  },
  {
   "cell_type": "code",
   "execution_count": 2,
   "id": "fe9347d7",
   "metadata": {},
   "outputs": [],
   "source": [
    "def add_actual_water_content(df, df_moisture):\n",
    "    df_water = pd.merge_asof(\n",
    "        df.sort_values(\"t_c\"), df_moisture, left_on=\"t_c\", right_index=True\n",
    "    ).sort_index()\n",
    "    df_water[\"est_water_gm3\"] = df_water[\"max_water_gm3\"] * df_water[\"rh\"] / 100\n",
    "    return df_water"
   ]
  },
  {
   "cell_type": "markdown",
   "id": "2e6867d4",
   "metadata": {},
   "source": [
    "# Load data"
   ]
  },
  {
   "cell_type": "code",
   "execution_count": 6,
   "id": "3e5ed263",
   "metadata": {},
   "outputs": [],
   "source": [
    "def sanity_check_data(df):\n",
    "    # this is a simpler example, we reset_index to keep the schema simple for a first discussion\n",
    "    df = df.reset_index()\n",
    "\n",
    "    min_date = \"2021-01-01\"\n",
    "    max_date = \"2022-12-12\"\n",
    "    schema = pa.DataFrameSchema(\n",
    "        {\n",
    "            \"timestamp\": pa.Column(\n",
    "                \"datetime64[ns]\", checks=[pa.Check.gt(min_date), pa.Check.lt(max_date)]\n",
    "            ),\n",
    "            \"rh\": pa.Column(float, checks=[pa.Check.gt(0), pa.Check.lt(100)]),\n",
    "        },\n",
    "        ordered=True,\n",
    "    )\n",
    "    validated_df = schema(df, lazy=True)\n",
    "\n",
    "\n",
    "def sanity_check_data_with_index(df):\n",
    "    # this time we don't reset_index, so we have to configure our schema\n",
    "    # to have a pa.Index entry\n",
    "    min_date = \"2021-01-01\"\n",
    "    max_date = \"2022-12-12\"\n",
    "    schema = pa.DataFrameSchema(\n",
    "        {\n",
    "            \"rh\": pa.Column(float, checks=[pa.Check.gt(0), pa.Check.lt(100)]),\n",
    "        },\n",
    "        index=pa.Index(\n",
    "            \"datetime64[ns]\", checks=[pa.Check.gt(min_date), pa.Check.lt(max_date)]\n",
    "        ),\n",
    "        ordered=True,\n",
    "    )\n",
    "    validated_df = schema(df, lazy=True)"
   ]
  },
  {
   "cell_type": "code",
   "execution_count": 8,
   "id": "2f5a046b",
   "metadata": {},
   "outputs": [
    {
     "name": "stdout",
     "output_type": "stream",
     "text": [
      "Date range 2021-12-22 17:00:00 - 2021-12-31 17:00:00\n",
      "Working on 2021-12-24 - 2021-12-25\n"
     ]
    },
    {
     "data": {
      "text/html": [
       "<div>\n",
       "<style scoped>\n",
       "    .dataframe tbody tr th:only-of-type {\n",
       "        vertical-align: middle;\n",
       "    }\n",
       "\n",
       "    .dataframe tbody tr th {\n",
       "        vertical-align: top;\n",
       "    }\n",
       "\n",
       "    .dataframe thead th {\n",
       "        text-align: right;\n",
       "    }\n",
       "</style>\n",
       "<table border=\"1\" class=\"dataframe\">\n",
       "  <thead>\n",
       "    <tr style=\"text-align: right;\">\n",
       "      <th></th>\n",
       "      <th>t_c</th>\n",
       "      <th>rh</th>\n",
       "    </tr>\n",
       "    <tr>\n",
       "      <th>timestamp</th>\n",
       "      <th></th>\n",
       "      <th></th>\n",
       "    </tr>\n",
       "  </thead>\n",
       "  <tbody>\n",
       "    <tr>\n",
       "      <th>2021-12-22 17:00:00</th>\n",
       "      <td>16.00</td>\n",
       "      <td>54.660000</td>\n",
       "    </tr>\n",
       "    <tr>\n",
       "      <th>2021-12-22 17:30:00</th>\n",
       "      <td>16.00</td>\n",
       "      <td>54.580000</td>\n",
       "    </tr>\n",
       "    <tr>\n",
       "      <th>2021-12-22 18:00:00</th>\n",
       "      <td>16.00</td>\n",
       "      <td>54.064286</td>\n",
       "    </tr>\n",
       "    <tr>\n",
       "      <th>2021-12-22 18:30:00</th>\n",
       "      <td>16.04</td>\n",
       "      <td>53.743333</td>\n",
       "    </tr>\n",
       "    <tr>\n",
       "      <th>2021-12-22 19:00:00</th>\n",
       "      <td>16.10</td>\n",
       "      <td>53.450000</td>\n",
       "    </tr>\n",
       "  </tbody>\n",
       "</table>\n",
       "</div>"
      ],
      "text/plain": [
       "                       t_c         rh\n",
       "timestamp                            \n",
       "2021-12-22 17:00:00  16.00  54.660000\n",
       "2021-12-22 17:30:00  16.00  54.580000\n",
       "2021-12-22 18:00:00  16.00  54.064286\n",
       "2021-12-22 18:30:00  16.04  53.743333\n",
       "2021-12-22 19:00:00  16.10  53.450000"
      ]
     },
     "execution_count": 8,
     "metadata": {},
     "output_type": "execute_result"
    }
   ],
   "source": [
    "df = load_data(filename)\n",
    "\n",
    "# now let's choose a day\n",
    "day1 = \"2021-12-24\"\n",
    "day2 = \"2021-12-25\"\n",
    "\n",
    "start_time = f\"{day1} 20:00\"\n",
    "end_time = f\"{day2} 10:00\"\n",
    "\n",
    "print(f\"Working on {day1} - {day2}\")\n",
    "assert pd.to_datetime(start_time) > df.index.min(), \"Must be in date range\"\n",
    "assert pd.to_datetime(end_time) < df.index.max(), \"Must be in date range\"\n",
    "\n",
    "# generate our 30min mean summaries of the underlying data\n",
    "# and use the Pandera schema checker to start a check on our data\n",
    "df_30min = df.resample(\"30min\").mean()\n",
    "sanity_check_data(df_30min)\n",
    "sanity_check_data_with_index(df_30min)\n",
    "df_30min.head()"
   ]
  },
  {
   "cell_type": "code",
   "execution_count": null,
   "id": "6de89025",
   "metadata": {},
   "outputs": [],
   "source": [
    "df_moisture = make_max_water_by_temp_dataframe()\n",
    "df_30min_water = add_actual_water_content(df_30min, df_moisture)\n",
    "df_30min_water.head()"
   ]
  },
  {
   "cell_type": "code",
   "execution_count": null,
   "id": "4f8910bd",
   "metadata": {},
   "outputs": [],
   "source": [
    "print(f\"Querying between {start_time} and {end_time}\")\n",
    "dfx = df_30min_water.query(\"timestamp > @start_time and timestamp < @end_time\")"
   ]
  },
  {
   "cell_type": "code",
   "execution_count": null,
   "id": "f19c8551",
   "metadata": {},
   "outputs": [],
   "source": [
    "def make_estimated_water_plot(dfx, filename, time_range):\n",
    "    fig, axs = plt.subplots(constrained_layout=True, figsize=(12, 8), nrows=3)\n",
    "    ax = axs[0]\n",
    "\n",
    "    dfx = dfx.copy().rename(columns={\"t_c\": \"temperature_C\"})\n",
    "    line_temp = dfx[\"temperature_C\"].plot(ylabel=\"Temperature C\", ax=ax, marker=\"o\")\n",
    "    title = f\"Estimated moisture in house air on {time_range}\\n{filename}\"\n",
    "    set_common_mpl_styles(\n",
    "        ax, grid_axis=\"both\", title=title, ymin=0, legend=False, xlabel=\"\"\n",
    "    )\n",
    "    ax.set_ylim((10, 22))  # sensible internal temperature range\n",
    "\n",
    "    ax = axs[1]\n",
    "    dfx[\"rh\"].plot(\n",
    "        ylabel=\"Relative Humidify (%)\", c=\"orange\", marker=\"o\", ax=ax, xlabel=\"\"\n",
    "    )\n",
    "    set_common_mpl_styles(ax, grid_axis=\"both\", legend=False)\n",
    "    ax.set_ylim((45, 85))  # sensible internal RH range\n",
    "\n",
    "    ax = axs[2]\n",
    "    dfx[\"est_water_gm3\"].plot(ylabel=\"Temperature C\", c=\"green\", marker=\"s\", ax=ax)\n",
    "    ax.set_ylabel(\"Estimated water content (grams per $m^3$)\")\n",
    "    set_common_mpl_styles(ax, grid_axis=\"both\", legend=False)\n",
    "    ax.set_ylim((3, 12))  # sensible internal moisture range\n",
    "\n",
    "\n",
    "make_estimated_water_plot(dfx, filename, f\"{start_time} - {end_time}\")"
   ]
  },
  {
   "cell_type": "markdown",
   "id": "de9d2715",
   "metadata": {},
   "source": [
    "# Report temperature and water loss overnight"
   ]
  },
  {
   "cell_type": "code",
   "execution_count": null,
   "id": "142b051b",
   "metadata": {},
   "outputs": [],
   "source": [
    "heating_off = f\"{day1} 23:00\"\n",
    "heating_on = f\"{day2} 06:30\"\n",
    "df_overnight = dfx.query(\"timestamp >= @heating_off and timestamp <= @heating_on\")\n",
    "df_overnight"
   ]
  },
  {
   "cell_type": "code",
   "execution_count": null,
   "id": "1160796d",
   "metadata": {},
   "outputs": [],
   "source": [
    "t_c_max = df_overnight[\"t_c\"].max()\n",
    "t_c_min = df_overnight[\"t_c\"].min()\n",
    "t_c_diff = t_c_min - t_c_max\n",
    "\n",
    "water_max = df_overnight[\"est_water_gm3\"].max()\n",
    "water_min = df_overnight[\"est_water_gm3\"].min()\n",
    "water_diff = water_min - water_max\n",
    "\n",
    "print(f\"Invesigating {heating_off} - {heating_on} on {filename}\")\n",
    "print(\n",
    "    f\"Temperature change {t_c_diff:0.2f} C and water change {water_diff:0.2f} g/m^3 overnight\"\n",
    ")"
   ]
  },
  {
   "cell_type": "code",
   "execution_count": null,
   "id": "e5d9a9f7",
   "metadata": {},
   "outputs": [],
   "source": []
  },
  {
   "cell_type": "code",
   "execution_count": null,
   "id": "c7647eff",
   "metadata": {},
   "outputs": [],
   "source": []
  }
 ],
 "metadata": {
  "kernelspec": {
   "display_name": "Python 3 (ipykernel)",
   "language": "python",
   "name": "python3"
  },
  "language_info": {
   "codemirror_mode": {
    "name": "ipython",
    "version": 3
   },
   "file_extension": ".py",
   "mimetype": "text/x-python",
   "name": "python",
   "nbconvert_exporter": "python",
   "pygments_lexer": "ipython3",
   "version": "3.9.9"
  }
 },
 "nbformat": 4,
 "nbformat_minor": 5
}

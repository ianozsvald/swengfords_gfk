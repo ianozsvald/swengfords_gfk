{
 "cells": [
  {
   "cell_type": "code",
   "execution_count": 1,
   "id": "6b430d58",
   "metadata": {},
   "outputs": [],
   "source": [
    "import sys"
   ]
  },
  {
   "cell_type": "markdown",
   "id": "bc9a33a9",
   "metadata": {},
   "source": [
    "* we should have our currend folder as 0th entry\n",
    "* Python's core folders (e.g. .zip, lib) should follow\n",
    "* `site-packages` has everything we install\n",
    "* once we run `pip install -e .` we'll get our root `home_comfort` folder at the end of the list (you shouldn't see it yet)"
   ]
  },
  {
   "cell_type": "code",
   "execution_count": 2,
   "id": "63a8b4b8",
   "metadata": {},
   "outputs": [
    {
     "data": {
      "text/plain": [
       "['/home/ian/workspace/teaching/public_courses/software_engineering_for_data_scientists_2022_3session/code/session3/home_comfort/notebooks',\n",
       " '/home/ian/miniconda3/envs/course/lib/python39.zip',\n",
       " '/home/ian/miniconda3/envs/course/lib/python3.9',\n",
       " '/home/ian/miniconda3/envs/course/lib/python3.9/lib-dynload',\n",
       " '',\n",
       " '/home/ian/miniconda3/envs/course/lib/python3.9/site-packages',\n",
       " '/home/ian/workspace/teaching/public_courses/software_engineering_for_data_scientists_2022_3session/code/session3/home_comfort']"
      ]
     },
     "execution_count": 2,
     "metadata": {},
     "output_type": "execute_result"
    }
   ],
   "source": [
    "sys.path"
   ]
  },
  {
   "cell_type": "markdown",
   "id": "25d185b8",
   "metadata": {},
   "source": [
    "Take a look at _your equivalent_ for `~/miniconda3/envs/course/` (Ian's probable root folder, that might have changed). You should see `bin` `lib` `etc` and other folders.\n",
    "\n",
    "`lib` will contain all the core Python dependencies, see `libsqlite` `libbz2` `libreadline` and loads more.\n",
    "\n",
    "`lib/python3.9` has all the Python code! See `lib/python3.9/statistics.py`. Note that `math.py` doesn't exist here - why?"
   ]
  },
  {
   "cell_type": "code",
   "execution_count": 3,
   "id": "cc3dac4d",
   "metadata": {},
   "outputs": [
    {
     "data": {
      "text/plain": [
       "'/home/ian/miniconda3/envs/course/lib/python3.9/statistics.py'"
      ]
     },
     "execution_count": 3,
     "metadata": {},
     "output_type": "execute_result"
    }
   ],
   "source": [
    "import statistics\n",
    "statistics.__file__"
   ]
  },
  {
   "cell_type": "code",
   "execution_count": 4,
   "id": "daf6d37c",
   "metadata": {},
   "outputs": [
    {
     "data": {
      "text/plain": [
       "'/home/ian/miniconda3/envs/course/lib/python3.9/lib-dynload/math.cpython-39-x86_64-linux-gnu.so'"
      ]
     },
     "execution_count": 4,
     "metadata": {},
     "output_type": "execute_result"
    }
   ],
   "source": [
    "import math # a C-coded (not Python) compiled module, like much of the older libraries\n",
    "math.__file__"
   ]
  },
  {
   "cell_type": "code",
   "execution_count": 5,
   "id": "85d3d6a6",
   "metadata": {},
   "outputs": [
    {
     "data": {
      "text/plain": [
       "'/home/ian/workspace/teaching/public_courses/software_engineering_for_data_scientists_2022_3session/code/session3/home_comfort/notebooks/mymodule.py'"
      ]
     },
     "execution_count": 5,
     "metadata": {},
     "output_type": "execute_result"
    }
   ],
   "source": [
    "import mymodule\n",
    "mymodule.__file__ # this should be in the same folder as this Notebook"
   ]
  },
  {
   "cell_type": "code",
   "execution_count": 6,
   "id": "a2fad17e",
   "metadata": {},
   "outputs": [
    {
     "data": {
      "text/plain": [
       "20"
      ]
     },
     "execution_count": 6,
     "metadata": {},
     "output_type": "execute_result"
    }
   ],
   "source": [
    "mymodule.double(10)"
   ]
  },
  {
   "cell_type": "code",
   "execution_count": 7,
   "id": "72d1abbd",
   "metadata": {},
   "outputs": [],
   "source": [
    "# TRY THIS - it won't work\n",
    "#from ..src import utility # ugh oh, we wanted this to work! Not a package and we don't need one"
   ]
  },
  {
   "cell_type": "markdown",
   "id": "4b30989f",
   "metadata": {},
   "source": [
    "Inside `home_comfort` at the command line run `pip install -e .` to run the Python installer \"pip\". It'll find `setup.py` in `home_comfort/` and it'll install it.\n",
    "\n",
    "Now go back to our environment and look for `easy-install.pth` (Easy Install or EzInstall is a legacy Python installation system, the user-modifiable path stuck around).\n",
    "\n",
    "Take a look at it - for Ian this will be something like `~/miniconda3/envs/course/lib/python3.9/site-packages$ more easy-install.pth` and we'll see a folder reference back to our _root_ `home_comfort`."
   ]
  },
  {
   "cell_type": "code",
   "execution_count": 10,
   "id": "a7c1c0cf",
   "metadata": {},
   "outputs": [
    {
     "data": {
      "text/plain": [
       "['/home/ian/workspace/teaching/public_courses/software_engineering_for_data_scientists_2022_3session/code/session3/home_comfort/notebooks',\n",
       " '/home/ian/miniconda3/envs/course/lib/python39.zip',\n",
       " '/home/ian/miniconda3/envs/course/lib/python3.9',\n",
       " '/home/ian/miniconda3/envs/course/lib/python3.9/lib-dynload',\n",
       " '',\n",
       " '/home/ian/miniconda3/envs/course/lib/python3.9/site-packages',\n",
       " '/home/ian/workspace/teaching/public_courses/software_engineering_for_data_scientists_2022_3session/code/session3/home_comfort']"
      ]
     },
     "execution_count": 10,
     "metadata": {},
     "output_type": "execute_result"
    }
   ],
   "source": [
    "sys.path # note we probably have to rerun a fresh kernel to see the new entry for `home_comfort/`"
   ]
  },
  {
   "cell_type": "code",
   "execution_count": 11,
   "id": "127c5db0",
   "metadata": {},
   "outputs": [],
   "source": [
    "from src import utility # this will work"
   ]
  },
  {
   "cell_type": "code",
   "execution_count": 13,
   "id": "e22a7efc",
   "metadata": {},
   "outputs": [
    {
     "data": {
      "text/plain": [
       "['__builtins__',\n",
       " '__cached__',\n",
       " '__doc__',\n",
       " '__file__',\n",
       " '__loader__',\n",
       " '__name__',\n",
       " '__package__',\n",
       " '__spec__',\n",
       " 'add_actual_water_content',\n",
       " 'concat_dedupe_sort_ts',\n",
       " 'get_room_from_filename',\n",
       " 'make_max_water_by_temp_dataframe',\n",
       " 'np',\n",
       " 'pd',\n",
       " 're',\n",
       " 'set_common_mpl_styles']"
      ]
     },
     "execution_count": 13,
     "metadata": {},
     "output_type": "execute_result"
    }
   ],
   "source": [
    "dir(utility)"
   ]
  },
  {
   "cell_type": "code",
   "execution_count": 17,
   "id": "a66c0ea8",
   "metadata": {},
   "outputs": [
    {
     "data": {
      "text/html": [
       "<div>\n",
       "<style scoped>\n",
       "    .dataframe tbody tr th:only-of-type {\n",
       "        vertical-align: middle;\n",
       "    }\n",
       "\n",
       "    .dataframe tbody tr th {\n",
       "        vertical-align: top;\n",
       "    }\n",
       "\n",
       "    .dataframe thead th {\n",
       "        text-align: right;\n",
       "    }\n",
       "</style>\n",
       "<table border=\"1\" class=\"dataframe\">\n",
       "  <thead>\n",
       "    <tr style=\"text-align: right;\">\n",
       "      <th></th>\n",
       "      <th>max_water_gm3</th>\n",
       "    </tr>\n",
       "    <tr>\n",
       "      <th>t_c</th>\n",
       "      <th></th>\n",
       "    </tr>\n",
       "  </thead>\n",
       "  <tbody>\n",
       "    <tr>\n",
       "      <th>2.3</th>\n",
       "      <td>5.664747</td>\n",
       "    </tr>\n",
       "    <tr>\n",
       "      <th>3.3</th>\n",
       "      <td>6.058332</td>\n",
       "    </tr>\n",
       "    <tr>\n",
       "      <th>9.9</th>\n",
       "      <td>9.307196</td>\n",
       "    </tr>\n",
       "    <tr>\n",
       "      <th>16.6</th>\n",
       "      <td>14.058274</td>\n",
       "    </tr>\n",
       "    <tr>\n",
       "      <th>25.2</th>\n",
       "      <td>23.124412</td>\n",
       "    </tr>\n",
       "  </tbody>\n",
       "</table>\n",
       "</div>"
      ],
      "text/plain": [
       "      max_water_gm3\n",
       "t_c                \n",
       "2.3        5.664747\n",
       "3.3        6.058332\n",
       "9.9        9.307196\n",
       "16.6      14.058274\n",
       "25.2      23.124412"
      ]
     },
     "execution_count": 17,
     "metadata": {},
     "output_type": "execute_result"
    }
   ],
   "source": [
    "utility.make_max_water_by_temp_dataframe().sample(5).sort_index()"
   ]
  },
  {
   "cell_type": "markdown",
   "id": "5f29de09",
   "metadata": {},
   "source": [
    "# What have we done?\n",
    "\n",
    "We had code in folders, but not in Python's search path. You can use `sys.path` to check the search path at any point.\n",
    "\n",
    "By running `pip install -e .` we've run an editable install, rather than installing (by copying) our files into `site-packages` instead it has made our development folder findable from `site-packages` via `easy-install.pth`.\n",
    "\n",
    "If we delete our 1-line from `easy-install.pth` then suddenly our local folder is not searchable (should I demo this?)."
   ]
  },
  {
   "cell_type": "code",
   "execution_count": null,
   "id": "2709b909",
   "metadata": {},
   "outputs": [],
   "source": []
  }
 ],
 "metadata": {
  "kernelspec": {
   "display_name": "Python 3 (ipykernel)",
   "language": "python",
   "name": "python3"
  },
  "language_info": {
   "codemirror_mode": {
    "name": "ipython",
    "version": 3
   },
   "file_extension": ".py",
   "mimetype": "text/x-python",
   "name": "python",
   "nbconvert_exporter": "python",
   "pygments_lexer": "ipython3",
   "version": "3.9.9"
  }
 },
 "nbformat": 4,
 "nbformat_minor": 5
}

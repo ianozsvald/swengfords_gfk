{
 "cells": [
  {
   "cell_type": "markdown",
   "id": "b4adbdc8",
   "metadata": {},
   "source": [
    "# For several processed data files try to find the worst room for water loss"
   ]
  },
  {
   "cell_type": "code",
   "execution_count": null,
   "id": "0003c789",
   "metadata": {},
   "outputs": [],
   "source": [
    "import pandas as pd\n",
    "import matplotlib.pyplot as plt\n",
    "import numpy as np\n",
    "import glob\n",
    "\n",
    "from src.utility import make_max_water_by_temp_dataframe\n",
    "from src.utility import set_common_mpl_styles\n",
    "from src.utility import add_actual_water_content"
   ]
  },
  {
   "cell_type": "markdown",
   "id": "2e6867d4",
   "metadata": {},
   "source": [
    "# Load data"
   ]
  },
  {
   "cell_type": "code",
   "execution_count": null,
   "id": "7792a868",
   "metadata": {},
   "outputs": [],
   "source": [
    "def load_data(filename):\n",
    "    print(f\"Loading from {filename}\")\n",
    "    return pd.read_pickle(filename)"
   ]
  },
  {
   "cell_type": "code",
   "execution_count": null,
   "id": "30ca941e",
   "metadata": {},
   "outputs": [],
   "source": [
    "filenames = glob.glob(\"../data/processed/*.pickle\")\n",
    "assert len(filenames) > 0, \"Expecting to see processed files - have we run 'process_data.py'?\"\n",
    "filenames"
   ]
  },
  {
   "cell_type": "code",
   "execution_count": null,
   "id": "ae41f3fc",
   "metadata": {},
   "outputs": [],
   "source": [
    "series_by_filename = []\n",
    "for filename in filenames:\n",
    "    df_30min_water = load_data(filename)\n",
    "    \n",
    "    # REMOVED DUPLICATION (DRY!)\n",
    "    #df_moisture = make_max_water_by_temp_dataframe()\n",
    "    #df_30min_water = add_actual_water_content(df_30min, df_moisture)\n",
    "\n",
    "    # get first day at midnight, get last partial day and subtract a day\n",
    "    # both are normalized to midnight\n",
    "    start_date = df_30min_water.index[0].normalize()\n",
    "    end_date = df_30min_water.index[-1].normalize() - pd.Timedelta(\"1d\")\n",
    "    days_diff = (end_date - start_date).days\n",
    "\n",
    "    overnight_water_loss = []\n",
    "    indices = []\n",
    "    for day_offset in range(days_diff):\n",
    "        this_start_date = pd.to_datetime(start_date) + pd.Timedelta(f\"{day_offset}d\")\n",
    "        this_end_date = this_start_date + pd.Timedelta(\"6h\")\n",
    "        overnight = df_30min_water.loc[this_start_date:this_end_date]\n",
    "        water_diff = overnight[\"max_water_gm3\"].max() - overnight[\"max_water_gm3\"].min()\n",
    "        print(this_start_date, this_end_date, water_diff)\n",
    "        indices.append(this_start_date)\n",
    "        overnight_water_loss.append(-water_diff)\n",
    "    ser_loss = pd.Series(overnight_water_loss, index=indices)\n",
    "    series_by_filename.append(ser_loss)"
   ]
  },
  {
   "cell_type": "markdown",
   "id": "8a01790a",
   "metadata": {},
   "source": [
    "# Calculate median loss per room"
   ]
  },
  {
   "cell_type": "code",
   "execution_count": null,
   "id": "258b0e11",
   "metadata": {},
   "outputs": [],
   "source": [
    "df_joined = pd.concat(series_by_filename, axis=1)\n",
    "df_joined.columns = [s.replace(\"_\", \" \").split(\" \")[0] for s in filenames]\n",
    "df_joined.median().sort_values()"
   ]
  },
  {
   "cell_type": "code",
   "execution_count": null,
   "id": "ed00f16d",
   "metadata": {},
   "outputs": [],
   "source": [
    "df_losses = df_joined.median().sort_values().to_frame()\n",
    "df_losses.columns = ['median_water_loss']\n",
    "def split_name(name):\n",
    "    return name.split('/')[-1]\n",
    "df_losses.index = [split_name(n) for n in df_losses.index.values]\n",
    "fig, ax = plt.subplots(constrained_layout=True)\n",
    "df_losses.plot(kind='bar', ax=ax)\n",
    "set_common_mpl_styles(ax, title=\"Worst water loss by room\", ylabel='Overnight median water loss $g/m^3$ (more is worse)')"
   ]
  },
  {
   "cell_type": "code",
   "execution_count": null,
   "id": "899a6987",
   "metadata": {},
   "outputs": [],
   "source": []
  }
 ],
 "metadata": {
  "kernelspec": {
   "display_name": "Python 3.10.6 ('course')",
   "language": "python",
   "name": "python3"
  },
  "language_info": {
   "codemirror_mode": {
    "name": "ipython",
    "version": 3
   },
   "file_extension": ".py",
   "mimetype": "text/x-python",
   "name": "python",
   "nbconvert_exporter": "python",
   "pygments_lexer": "ipython3",
   "version": "3.10.6"
  },
  "vscode": {
   "interpreter": {
    "hash": "67ca0717af79d405f822ef401e9c91e507dcdd6ca73e43db41fabfba02ac3ae6"
   }
  }
 },
 "nbformat": 4,
 "nbformat_minor": 5
}

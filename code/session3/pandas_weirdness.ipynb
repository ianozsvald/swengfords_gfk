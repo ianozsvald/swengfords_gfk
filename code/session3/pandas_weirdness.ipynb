{
 "cells": [
  {
   "cell_type": "markdown",
   "id": "059e5896",
   "metadata": {},
   "source": [
    "# Some of the weirdness in Pandas with solutions\n",
    "\n",
    "Some of these points may catch you out, some are historic (so you'll find lots of talk about it on older posts when you Google).\n",
    "\n",
    "What's _caught you out_? We can discuss problems you've found and they'll help the others on the course."
   ]
  },
  {
   "cell_type": "code",
   "execution_count": null,
   "id": "8a78ef02",
   "metadata": {},
   "outputs": [],
   "source": [
    "import pandas as pd"
   ]
  },
  {
   "cell_type": "markdown",
   "id": "fa7f8f45",
   "metadata": {},
   "source": [
    "# Is there danger when using a `.` to access columns?\n",
    "\n",
    "_Recommendation_ only use `[]` to access columns, not `.`"
   ]
  },
  {
   "cell_type": "code",
   "execution_count": null,
   "id": "e2b2854b",
   "metadata": {},
   "outputs": [],
   "source": [
    "df = pd.DataFrame({'a': [1, 2, 3], 'b': [4, 5, 6]})\n",
    "df"
   ]
  },
  {
   "cell_type": "code",
   "execution_count": null,
   "id": "493ac862",
   "metadata": {},
   "outputs": [],
   "source": [
    "df['a']"
   ]
  },
  {
   "cell_type": "code",
   "execution_count": null,
   "id": "a77e9ba9",
   "metadata": {},
   "outputs": [],
   "source": [
    "df.b * 10"
   ]
  },
  {
   "cell_type": "code",
   "execution_count": null,
   "id": "254ace30",
   "metadata": {},
   "outputs": [],
   "source": [
    "(df['b'] * 10) == (df.b * 10)"
   ]
  },
  {
   "cell_type": "code",
   "execution_count": null,
   "id": "dd588960",
   "metadata": {},
   "outputs": [],
   "source": [
    "df.c = df.b # what's happening here? is this sensible?"
   ]
  },
  {
   "cell_type": "code",
   "execution_count": null,
   "id": "92ef6fc5",
   "metadata": {},
   "outputs": [],
   "source": [
    "type(df.c) # is this a DataFrame column?"
   ]
  },
  {
   "cell_type": "code",
   "execution_count": null,
   "id": "0f346c31",
   "metadata": {},
   "outputs": [],
   "source": [
    "df.d = [7, 8, 9] # uncomment and try this - is it a DataFrame column?"
   ]
  },
  {
   "cell_type": "code",
   "execution_count": null,
   "id": "b2e0db6d",
   "metadata": {},
   "outputs": [],
   "source": [
    "df.d"
   ]
  },
  {
   "cell_type": "code",
   "execution_count": null,
   "id": "b0364e35",
   "metadata": {},
   "outputs": [],
   "source": [
    "df._data # take a look at the Block Manager to see what's on the inside"
   ]
  },
  {
   "cell_type": "code",
   "execution_count": null,
   "id": "4ccc3c19",
   "metadata": {},
   "outputs": [],
   "source": [
    "df.columns # this is what Pandas actually knows about"
   ]
  },
  {
   "cell_type": "markdown",
   "id": "c5953416",
   "metadata": {},
   "source": [
    "# Indexing is inclusive in Pandas but not in Python\n",
    "\n",
    "Slightly count-intuitive, there seem to be arguments going both ways especially for date handling, it is an annoyance that you ahve to be aware of."
   ]
  },
  {
   "cell_type": "code",
   "execution_count": null,
   "id": "c6007966",
   "metadata": {},
   "outputs": [],
   "source": [
    "lst = list(range(1, 6))\n",
    "print(f'{lst} is the whole list')"
   ]
  },
  {
   "cell_type": "code",
   "execution_count": null,
   "id": "cfbc0644",
   "metadata": {},
   "outputs": [],
   "source": [
    "print(f'{lst[2:4]} gets 2 items exclusive of the end selector')"
   ]
  },
  {
   "cell_type": "code",
   "execution_count": null,
   "id": "81d557e9",
   "metadata": {},
   "outputs": [],
   "source": [
    "df = pd.DataFrame({'a': range(1, 6), 'b': range(1, 6)})\n",
    "df = df.set_index('a')\n",
    "df"
   ]
  },
  {
   "cell_type": "code",
   "execution_count": null,
   "id": "c92a5a6b",
   "metadata": {},
   "outputs": [],
   "source": [
    "# be cautious that the following feels a bit ambiguous\n",
    "df[2:4] # this looks like what we'd expect _if_ we're thinking of integer locations"
   ]
  },
  {
   "cell_type": "code",
   "execution_count": null,
   "id": "43fc6fae",
   "metadata": {},
   "outputs": [],
   "source": [
    "df.loc[2:4] # what does this give? # the same applies to datetime indexes being inclusive"
   ]
  },
  {
   "cell_type": "code",
   "execution_count": null,
   "id": "c63172d4",
   "metadata": {},
   "outputs": [],
   "source": [
    "df.iloc[2:4] # this at least is not ambiguous and follows the Python approach"
   ]
  },
  {
   "cell_type": "code",
   "execution_count": null,
   "id": "88bf3591",
   "metadata": {},
   "outputs": [],
   "source": [
    "#df.ix[2:4] # thankfully this has now gone - it tried to guess which of these jobs to do!"
   ]
  },
  {
   "cell_type": "markdown",
   "id": "22aef3f2",
   "metadata": {},
   "source": [
    "# Be cautious when reading datetimes as strings"
   ]
  },
  {
   "cell_type": "code",
   "execution_count": null,
   "id": "66b7904e",
   "metadata": {},
   "outputs": [],
   "source": [
    "# text will look like a CSV file on disk as a convenience\n",
    "from io import StringIO\n",
    "text = \"\"\"2022-01-20, 1\\n2022-01-21, 2\\n2022-01-22, 3\"\"\"\n",
    "\n",
    "str_as_file = StringIO(text)\n",
    "df = pd.read_csv(str_as_file, names=['date', 'amount'])\n",
    "df"
   ]
  },
  {
   "cell_type": "code",
   "execution_count": null,
   "id": "d7ca2ff6",
   "metadata": {},
   "outputs": [],
   "source": [
    "df.info()"
   ]
  },
  {
   "cell_type": "code",
   "execution_count": null,
   "id": "9cc45bcf",
   "metadata": {},
   "outputs": [],
   "source": [
    "df = df.set_index('date')"
   ]
  },
  {
   "cell_type": "code",
   "execution_count": null,
   "id": "563fb736",
   "metadata": {},
   "outputs": [],
   "source": [
    "df.info()"
   ]
  },
  {
   "cell_type": "code",
   "execution_count": null,
   "id": "d6bfc824",
   "metadata": {},
   "outputs": [],
   "source": [
    "df.loc['2022-01-20'] # looks legit"
   ]
  },
  {
   "cell_type": "code",
   "execution_count": null,
   "id": "0bd311bc",
   "metadata": {},
   "outputs": [],
   "source": [
    "# will the following work?\n",
    "df.resample('W').mean() # expect a weekly mean aggregation\n",
    "# we'll need \", parse_dates=['date']\" above"
   ]
  },
  {
   "cell_type": "code",
   "execution_count": null,
   "id": "baf7138f",
   "metadata": {},
   "outputs": [],
   "source": []
  },
  {
   "cell_type": "code",
   "execution_count": null,
   "id": "f69c470b",
   "metadata": {},
   "outputs": [],
   "source": [
    "text2 = \"\"\"2022-01--1, 1\\n2022-01-02, 2\\n2022-01-03, 3\"\"\"\n",
    "\n",
    "str_as_file = StringIO(text2)\n",
    "df = pd.read_csv(str_as_file, names=['date', 'amount'], parse_dates=['date'])\n",
    "df.info() # remember that parse_dates is a soft request so bad data will silently fail! Use Pandera..."
   ]
  },
  {
   "cell_type": "code",
   "execution_count": null,
   "id": "2b4dc964",
   "metadata": {},
   "outputs": [],
   "source": [
    "#df['date'].dt.day # will this work?"
   ]
  },
  {
   "cell_type": "code",
   "execution_count": null,
   "id": "658cf094",
   "metadata": {},
   "outputs": [],
   "source": [
    "text3 = \"\"\"01/01/2022, 1\\n01/02/2022, 2\\n01/03/2022, 3\"\"\"\n",
    "# what if this was written DD-MM-YYYY?\n",
    "\n",
    "str_as_file = StringIO(text3)\n",
    "df = pd.read_csv(str_as_file, names=['date', 'amount'], parse_dates=['date'])\n",
    "df.info()"
   ]
  },
  {
   "cell_type": "code",
   "execution_count": null,
   "id": "3b5e4676",
   "metadata": {},
   "outputs": [],
   "source": [
    "df['date'].dt.day # is this what we expect given the format above?"
   ]
  },
  {
   "cell_type": "code",
   "execution_count": null,
   "id": "4e485a71",
   "metadata": {},
   "outputs": [],
   "source": [
    "str_as_file = StringIO(text3)\n",
    "df = pd.read_csv(str_as_file, names=['date', 'amount'], parse_dates=['date'], dayfirst=True)\n",
    "df.info()"
   ]
  },
  {
   "cell_type": "code",
   "execution_count": null,
   "id": "1120d51d",
   "metadata": {},
   "outputs": [],
   "source": [
    "df['date'].dt.day"
   ]
  },
  {
   "cell_type": "markdown",
   "id": "202a3a92",
   "metadata": {},
   "source": [
    "# `NaN` and extension types"
   ]
  },
  {
   "cell_type": "code",
   "execution_count": null,
   "id": "bfee7a59",
   "metadata": {},
   "outputs": [],
   "source": [
    "import numpy as np\n",
    "ser = pd.Series([1, 2, 3, np.nan], name='a')\n",
    "ser # what datatype is column 'a'? is it what you expect?"
   ]
  },
  {
   "cell_type": "code",
   "execution_count": null,
   "id": "430e947f",
   "metadata": {},
   "outputs": [],
   "source": [
    "type(ser.to_numpy())"
   ]
  },
  {
   "cell_type": "code",
   "execution_count": null,
   "id": "953d871d",
   "metadata": {},
   "outputs": [],
   "source": [
    "ser = pd.Series([1, 2, 3, pd.NA], name='b')\n",
    "ser # what about now?"
   ]
  },
  {
   "cell_type": "code",
   "execution_count": null,
   "id": "2baa36b6",
   "metadata": {},
   "outputs": [],
   "source": [
    "ser.dtype"
   ]
  },
  {
   "cell_type": "code",
   "execution_count": null,
   "id": "962c0528",
   "metadata": {},
   "outputs": [],
   "source": [
    "ser = pd.Series([1, 2, 3, pd.NA], dtype='Int64')\n",
    "ser # what's different here?"
   ]
  },
  {
   "cell_type": "code",
   "execution_count": null,
   "id": "3f6534d8",
   "metadata": {},
   "outputs": [],
   "source": [
    "ser.dtype"
   ]
  },
  {
   "cell_type": "code",
   "execution_count": null,
   "id": "8d5ed7a9",
   "metadata": {},
   "outputs": [],
   "source": [
    "ser.to_numpy() # can only work by promoting to an Object (not Pandas Extension) ndarray"
   ]
  },
  {
   "cell_type": "markdown",
   "id": "1e082d32",
   "metadata": {},
   "source": [
    "## Not a Number\n",
    "\n",
    "Did you know that Ian's newsletter shares this name?\n",
    "\n",
    "How do we compare to `NaN` in floating point arithmethic?"
   ]
  },
  {
   "cell_type": "code",
   "execution_count": null,
   "id": "0b724e87",
   "metadata": {},
   "outputs": [],
   "source": [
    "ser = pd.Series([1, 2, 3, np.nan], name='a')\n",
    "ser"
   ]
  },
  {
   "cell_type": "code",
   "execution_count": null,
   "id": "67ac615e",
   "metadata": {},
   "outputs": [],
   "source": [
    "ser == 1"
   ]
  },
  {
   "cell_type": "code",
   "execution_count": null,
   "id": "179056fa",
   "metadata": {},
   "outputs": [],
   "source": [
    "ser == None"
   ]
  },
  {
   "cell_type": "code",
   "execution_count": null,
   "id": "55bbeadd",
   "metadata": {},
   "outputs": [],
   "source": [
    "ser == np.nan"
   ]
  },
  {
   "cell_type": "code",
   "execution_count": null,
   "id": "4084f31e",
   "metadata": {},
   "outputs": [],
   "source": [
    "# why are the previous lines False, but here we get a True?\n",
    "ser.isna() # or .isnull() but .isna is shorter and is preferred by pandas-vet"
   ]
  },
  {
   "cell_type": "code",
   "execution_count": null,
   "id": "0413797c",
   "metadata": {},
   "outputs": [],
   "source": [
    "# we can do the same thing if we have an Int64 (Extension type) column\n",
    "ser = pd.Series([1, 2, 3, pd.NA], dtype='Int64')\n",
    "ser.isna()"
   ]
  },
  {
   "cell_type": "markdown",
   "id": "dddd4c6b",
   "metadata": {},
   "source": [
    "# TIPS"
   ]
  },
  {
   "cell_type": "markdown",
   "id": "c7f4f850",
   "metadata": {},
   "source": [
    "`df = pd.read_csv(str_as_file, names=['date', 'amount'], parse_dates=['date'])` specify the column for `parse_dates` and double check that it has done the conversion you expect for non-US dates.\n"
   ]
  },
  {
   "cell_type": "code",
   "execution_count": null,
   "id": "03a05fbb",
   "metadata": {},
   "outputs": [],
   "source": [
    "str_as_file = StringIO(text)\n",
    "df = pd.read_csv(str_as_file, names=['date', 'amount'], parse_dates=['date'])\n",
    "df = df.set_index('date')\n",
    "df.resample('W').mean()"
   ]
  },
  {
   "cell_type": "code",
   "execution_count": null,
   "id": "4992962c",
   "metadata": {},
   "outputs": [],
   "source": [
    "str_as_file = StringIO(text3)\n",
    "df = pd.read_csv(str_as_file, names=['date', 'amount'], parse_dates=['date'], dayfirst=True)\n",
    "df['date'].dt.day # expect 1,1,1 (not 1,2,3) with dayfirst == True for this datetime configuration"
   ]
  },
  {
   "cell_type": "markdown",
   "id": "42df0ef2",
   "metadata": {},
   "source": [
    "Whilst it reads a bit weirdly, probably sticking with `np.nan` and a `float64` numpy-style column is easier for the team rather than using the newer and less populat `Int64` nullable column (but your team may disagree and that'd be cool)."
   ]
  },
  {
   "cell_type": "code",
   "execution_count": null,
   "id": "a61d4313",
   "metadata": {},
   "outputs": [],
   "source": [
    "pd.Series([1, 2, 3, np.nan], name='a').isna()"
   ]
  },
  {
   "cell_type": "markdown",
   "id": "435899d5",
   "metadata": {},
   "source": [
    "For indexing be explicit - using `.iloc` for integer indexing (which follows the Python convention of being \"(inclusive, exclusive]\" using math bracket notation) or `.loc` for label-based (and inclusive) indexing which follows the form \"(inclusive, inclusive)\"."
   ]
  },
  {
   "cell_type": "markdown",
   "id": "b658ef6b",
   "metadata": {},
   "source": [
    "# Minimally Sufficient Pandas\n",
    "\n",
    "* https://medium.com/dunder-data/minimally-sufficient-pandas-a8e67f2a2428 worth a read (mostly - avoid some methods, make the team agree to use a common subset so everyone has a better understanding of the defaults)\n",
    "* https://www.dunderdata.com/blog/minimally-sufficient-pandas-cheat-sheet a cheat sheet for the above\n",
    "* consider - is `join` a strict subset of `pd.merge` or does it do anything else? 3 ways for doing the same thing...\n",
    "  * https://pandas.pydata.org/pandas-docs/stable/reference/api/pandas.DataFrame.join.html for `join` docs, click \"source\" and observe how it _actually_ works\n",
    "  * https://pandas.pydata.org/pandas-docs/stable/reference/api/pandas.DataFrame.merge.html (on DataFrame)\n",
    "  * https://pandas.pydata.org/pandas-docs/stable/reference/api/pandas.merge.html (top level - my choice)"
   ]
  },
  {
   "cell_type": "code",
   "execution_count": null,
   "id": "616dd236",
   "metadata": {},
   "outputs": [],
   "source": []
  }
 ],
 "metadata": {
  "kernelspec": {
   "display_name": "Python 3 (ipykernel)",
   "language": "python",
   "name": "python3"
  },
  "language_info": {
   "codemirror_mode": {
    "name": "ipython",
    "version": 3
   },
   "file_extension": ".py",
   "mimetype": "text/x-python",
   "name": "python",
   "nbconvert_exporter": "python",
   "pygments_lexer": "ipython3",
   "version": "3.9.9"
  }
 },
 "nbformat": 4,
 "nbformat_minor": 5
}
